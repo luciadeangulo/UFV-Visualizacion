{
  "nbformat": 4,
  "nbformat_minor": 0,
  "metadata": {
    "colab": {
      "provenance": [],
      "authorship_tag": "ABX9TyPjvUrYDKmOlKZV4VFpa2Xw",
      "include_colab_link": true
    },
    "kernelspec": {
      "name": "python3",
      "display_name": "Python 3"
    },
    "language_info": {
      "name": "python"
    }
  },
  "cells": [
    {
      "cell_type": "markdown",
      "metadata": {
        "id": "view-in-github",
        "colab_type": "text"
      },
      "source": [
        "<a href=\"https://colab.research.google.com/github/luciadeangulo/UFV-Visualizacion/blob/main/Copy_of_clase2.ipynb\" target=\"_parent\"><img src=\"https://colab.research.google.com/assets/colab-badge.svg\" alt=\"Open In Colab\"/></a>"
      ]
    },
    {
      "cell_type": "markdown",
      "source": [
        "EJERCICIO HISTÓRICO DE VENTAS: PLANIFICACIÓN\n"
      ],
      "metadata": {
        "id": "YbBiLqMQTnyZ"
      }
    },
    {
      "cell_type": "code",
      "source": [
        "import matplotlib.pyplot as plt"
      ],
      "metadata": {
        "id": "mDE3Vm04x7pq"
      },
      "execution_count": 25,
      "outputs": []
    },
    {
      "cell_type": "code",
      "execution_count": 26,
      "metadata": {
        "colab": {
          "base_uri": "https://localhost:8080/"
        },
        "id": "B1rxum1uTkxH",
        "outputId": "a63459d9-c58f-4381-ef26-487fe25a7e84"
      },
      "outputs": [
        {
          "output_type": "stream",
          "name": "stdout",
          "text": [
            "         COUNTRY        SUBBRAND  YEAR  MONTH     SCENARIO FORECAST  \\\n",
            "0       Portugal     Lipton (L3)  2023     12  AI_forecast  AI_P02F   \n",
            "1  Great Britain     Lipton (L3)  2023     12  AI_forecast  AI_P10F   \n",
            "2          Spain  Pepsi Max (L3)  2023     12  AI_forecast  AI_P09F   \n",
            "3  Great Britain        7up (L3)  2024     12  AI_forecast  AI_P10F   \n",
            "4        Hungary     Lipton (L3)  2023      9  AI_forecast  AI_P03F   \n",
            "\n",
            "   FORECAST_YEAR         AMOUNT  \n",
            "0         2023.0  754356.237194  \n",
            "1         2023.0  560030.558029  \n",
            "2         2023.0   88501.980847  \n",
            "3         2023.0  363224.511516  \n",
            "4         2023.0  396176.120491  \n"
          ]
        }
      ],
      "source": [
        "import pandas as pd\n",
        "df = pd.read_csv('datos_ejercicio_ventas.csv')\n",
        "print(df.head())"
      ]
    },
    {
      "cell_type": "markdown",
      "source": [
        "**Amount** : volumen ventas en litros\n",
        "\n",
        "**subbrand** : producto que se ha vendido (lipton ej)\n",
        "\n",
        "**scenario:** Ai_forecast(se ha predicho) o actual(venta real)\n",
        "\n",
        "**month** : en caso de forecast, esto indica para cuándo se hace la predicción\n",
        "\n",
        "**forecast** : mes cuando se hizo la predicción.  numero-1 = mes (2-12). pero diciembre es solo PF.\n",
        "\n",
        "**forecast_year** : año cuando se hizo la predicción"
      ],
      "metadata": {
        "id": "z1Pc-HrjV3WI"
      }
    },
    {
      "cell_type": "code",
      "source": [
        "print(df.describe())\n",
        "print(df.info())"
      ],
      "metadata": {
        "colab": {
          "base_uri": "https://localhost:8080/"
        },
        "id": "aIuwTIxAswv2",
        "outputId": "3296d26e-485f-4eb7-c9b4-3c741786938f"
      },
      "execution_count": 27,
      "outputs": [
        {
          "output_type": "stream",
          "name": "stdout",
          "text": [
            "               YEAR         MONTH  FORECAST_YEAR        AMOUNT\n",
            "count  18666.000000  18666.000000        17766.0  1.866600e+04\n",
            "mean    2023.716383      6.475463         2023.0  9.721822e+05\n",
            "std        0.590782      3.463632            0.0  1.915283e+06\n",
            "min     2023.000000      1.000000         2023.0 -2.171201e+05\n",
            "25%     2023.000000      3.000000         2023.0  8.754541e+04\n",
            "50%     2024.000000      6.000000         2023.0  3.081759e+05\n",
            "75%     2024.000000      9.000000         2023.0  1.078576e+06\n",
            "max     2025.000000     12.000000         2023.0  1.481563e+07\n",
            "<class 'pandas.core.frame.DataFrame'>\n",
            "RangeIndex: 18666 entries, 0 to 18665\n",
            "Data columns (total 8 columns):\n",
            " #   Column         Non-Null Count  Dtype  \n",
            "---  ------         --------------  -----  \n",
            " 0   COUNTRY        18666 non-null  object \n",
            " 1   SUBBRAND       18666 non-null  object \n",
            " 2   YEAR           18666 non-null  int64  \n",
            " 3   MONTH          18666 non-null  int64  \n",
            " 4   SCENARIO       18666 non-null  object \n",
            " 5   FORECAST       17766 non-null  object \n",
            " 6   FORECAST_YEAR  17766 non-null  float64\n",
            " 7   AMOUNT         18666 non-null  float64\n",
            "dtypes: float64(2), int64(2), object(4)\n",
            "memory usage: 1.1+ MB\n",
            "None\n"
          ]
        }
      ]
    },
    {
      "cell_type": "markdown",
      "source": [
        "No hay valores null.  Hay 18666 registros por columna, excepto las bariables relacionadas con las previsiones, lo cual tiene sentido porque hay registros que son datos reales y no predichos."
      ],
      "metadata": {
        "id": "2Amzf4tXuCTt"
      }
    },
    {
      "cell_type": "markdown",
      "source": [
        "Parece que hay al menos un valor negativo en la variable Amount, lo cual no tiene sentido."
      ],
      "metadata": {
        "id": "uhNJlRwls-ut"
      }
    },
    {
      "cell_type": "code",
      "source": [
        "amount_negativos = df[df['AMOUNT']<0]\n",
        "amount_negativos.shape"
      ],
      "metadata": {
        "colab": {
          "base_uri": "https://localhost:8080/"
        },
        "id": "UXNWwguDtNnm",
        "outputId": "56638720-96c4-485a-d5bf-725c890444d4"
      },
      "execution_count": 28,
      "outputs": [
        {
          "output_type": "execute_result",
          "data": {
            "text/plain": [
              "(10, 8)"
            ]
          },
          "metadata": {},
          "execution_count": 28
        }
      ]
    },
    {
      "cell_type": "markdown",
      "source": [
        "Hay 10 registros"
      ],
      "metadata": {
        "id": "K-fe1Oimt66x"
      }
    },
    {
      "cell_type": "markdown",
      "source": [
        "De casi 19000 registros, tan solo hay 10 registros con las ventas negativas.  Se eliminarán, ya que es una cantidad despreciable de datos."
      ],
      "metadata": {
        "id": "31oLUnupulj7"
      }
    },
    {
      "cell_type": "code",
      "source": [
        "df = df[df['AMOUNT']>=0]\n",
        "df.info()"
      ],
      "metadata": {
        "colab": {
          "base_uri": "https://localhost:8080/"
        },
        "id": "AL21zZb0u-aI",
        "outputId": "928879e5-4d8b-4415-a812-a8d220b6cf5e"
      },
      "execution_count": 29,
      "outputs": [
        {
          "output_type": "stream",
          "name": "stdout",
          "text": [
            "<class 'pandas.core.frame.DataFrame'>\n",
            "Index: 18656 entries, 0 to 18665\n",
            "Data columns (total 8 columns):\n",
            " #   Column         Non-Null Count  Dtype  \n",
            "---  ------         --------------  -----  \n",
            " 0   COUNTRY        18656 non-null  object \n",
            " 1   SUBBRAND       18656 non-null  object \n",
            " 2   YEAR           18656 non-null  int64  \n",
            " 3   MONTH          18656 non-null  int64  \n",
            " 4   SCENARIO       18656 non-null  object \n",
            " 5   FORECAST       17766 non-null  object \n",
            " 6   FORECAST_YEAR  17766 non-null  float64\n",
            " 7   AMOUNT         18656 non-null  float64\n",
            "dtypes: float64(2), int64(2), object(4)\n",
            "memory usage: 1.3+ MB\n"
          ]
        }
      ]
    },
    {
      "cell_type": "markdown",
      "source": [
        "Se revisará si hay datos duplicados en la base de datos."
      ],
      "metadata": {
        "id": "viOk7PvCvUwV"
      }
    },
    {
      "cell_type": "code",
      "source": [
        "duplicados = df[df.duplicated()]\n",
        "duplicados\n"
      ],
      "metadata": {
        "colab": {
          "base_uri": "https://localhost:8080/",
          "height": 600
        },
        "id": "L-3qOG9OvZtc",
        "outputId": "a6242b69-eb92-4d09-e7d9-1782b02e90b7"
      },
      "execution_count": 30,
      "outputs": [
        {
          "output_type": "execute_result",
          "data": {
            "text/plain": [
              "             COUNTRY       SUBBRAND  YEAR  MONTH     SCENARIO FORECAST  \\\n",
              "349    Great Britain    Lipton (L3)  2024      9  AI_forecast  AI_P11F   \n",
              "455    Great Britain    Lipton (L3)  2024      6  AI_forecast  AI_P03F   \n",
              "540    Great Britain  7up Free (L3)  2024      2  AI_forecast    AI_PF   \n",
              "652    Great Britain    Lipton (L3)  2024      1  AI_forecast  AI_P05F   \n",
              "789    Great Britain    Lipton (L3)  2024     11  AI_forecast  AI_P11F   \n",
              "...              ...            ...   ...    ...          ...      ...   \n",
              "18590        Hungary       7up (L3)  2025      1  AI_forecast  AI_P12F   \n",
              "18606  Great Britain  7up Free (L3)  2024      8  AI_forecast  AI_P03F   \n",
              "18631  Great Britain       7up (L3)  2024     10  AI_forecast  AI_P11F   \n",
              "18649  Great Britain    Lipton (L3)  2024      5  AI_forecast  AI_P11F   \n",
              "18650  Great Britain    Lipton (L3)  2024      5  AI_forecast  AI_P09F   \n",
              "\n",
              "       FORECAST_YEAR        AMOUNT  \n",
              "349           2023.0  7.367201e+05  \n",
              "455           2023.0  8.156165e+05  \n",
              "540           2023.0  9.402300e+05  \n",
              "652           2023.0  5.730475e+05  \n",
              "789           2023.0  7.039466e+05  \n",
              "...              ...           ...  \n",
              "18590         2023.0  0.000000e+00  \n",
              "18606         2023.0  1.117629e+06  \n",
              "18631         2023.0  7.512755e+04  \n",
              "18649         2023.0  9.124481e+05  \n",
              "18650         2023.0  7.005938e+05  \n",
              "\n",
              "[663 rows x 8 columns]"
            ],
            "text/html": [
              "\n",
              "  <div id=\"df-d6623676-df51-4572-8b04-c146a3d2808b\" class=\"colab-df-container\">\n",
              "    <div>\n",
              "<style scoped>\n",
              "    .dataframe tbody tr th:only-of-type {\n",
              "        vertical-align: middle;\n",
              "    }\n",
              "\n",
              "    .dataframe tbody tr th {\n",
              "        vertical-align: top;\n",
              "    }\n",
              "\n",
              "    .dataframe thead th {\n",
              "        text-align: right;\n",
              "    }\n",
              "</style>\n",
              "<table border=\"1\" class=\"dataframe\">\n",
              "  <thead>\n",
              "    <tr style=\"text-align: right;\">\n",
              "      <th></th>\n",
              "      <th>COUNTRY</th>\n",
              "      <th>SUBBRAND</th>\n",
              "      <th>YEAR</th>\n",
              "      <th>MONTH</th>\n",
              "      <th>SCENARIO</th>\n",
              "      <th>FORECAST</th>\n",
              "      <th>FORECAST_YEAR</th>\n",
              "      <th>AMOUNT</th>\n",
              "    </tr>\n",
              "  </thead>\n",
              "  <tbody>\n",
              "    <tr>\n",
              "      <th>349</th>\n",
              "      <td>Great Britain</td>\n",
              "      <td>Lipton (L3)</td>\n",
              "      <td>2024</td>\n",
              "      <td>9</td>\n",
              "      <td>AI_forecast</td>\n",
              "      <td>AI_P11F</td>\n",
              "      <td>2023.0</td>\n",
              "      <td>7.367201e+05</td>\n",
              "    </tr>\n",
              "    <tr>\n",
              "      <th>455</th>\n",
              "      <td>Great Britain</td>\n",
              "      <td>Lipton (L3)</td>\n",
              "      <td>2024</td>\n",
              "      <td>6</td>\n",
              "      <td>AI_forecast</td>\n",
              "      <td>AI_P03F</td>\n",
              "      <td>2023.0</td>\n",
              "      <td>8.156165e+05</td>\n",
              "    </tr>\n",
              "    <tr>\n",
              "      <th>540</th>\n",
              "      <td>Great Britain</td>\n",
              "      <td>7up Free (L3)</td>\n",
              "      <td>2024</td>\n",
              "      <td>2</td>\n",
              "      <td>AI_forecast</td>\n",
              "      <td>AI_PF</td>\n",
              "      <td>2023.0</td>\n",
              "      <td>9.402300e+05</td>\n",
              "    </tr>\n",
              "    <tr>\n",
              "      <th>652</th>\n",
              "      <td>Great Britain</td>\n",
              "      <td>Lipton (L3)</td>\n",
              "      <td>2024</td>\n",
              "      <td>1</td>\n",
              "      <td>AI_forecast</td>\n",
              "      <td>AI_P05F</td>\n",
              "      <td>2023.0</td>\n",
              "      <td>5.730475e+05</td>\n",
              "    </tr>\n",
              "    <tr>\n",
              "      <th>789</th>\n",
              "      <td>Great Britain</td>\n",
              "      <td>Lipton (L3)</td>\n",
              "      <td>2024</td>\n",
              "      <td>11</td>\n",
              "      <td>AI_forecast</td>\n",
              "      <td>AI_P11F</td>\n",
              "      <td>2023.0</td>\n",
              "      <td>7.039466e+05</td>\n",
              "    </tr>\n",
              "    <tr>\n",
              "      <th>...</th>\n",
              "      <td>...</td>\n",
              "      <td>...</td>\n",
              "      <td>...</td>\n",
              "      <td>...</td>\n",
              "      <td>...</td>\n",
              "      <td>...</td>\n",
              "      <td>...</td>\n",
              "      <td>...</td>\n",
              "    </tr>\n",
              "    <tr>\n",
              "      <th>18590</th>\n",
              "      <td>Hungary</td>\n",
              "      <td>7up (L3)</td>\n",
              "      <td>2025</td>\n",
              "      <td>1</td>\n",
              "      <td>AI_forecast</td>\n",
              "      <td>AI_P12F</td>\n",
              "      <td>2023.0</td>\n",
              "      <td>0.000000e+00</td>\n",
              "    </tr>\n",
              "    <tr>\n",
              "      <th>18606</th>\n",
              "      <td>Great Britain</td>\n",
              "      <td>7up Free (L3)</td>\n",
              "      <td>2024</td>\n",
              "      <td>8</td>\n",
              "      <td>AI_forecast</td>\n",
              "      <td>AI_P03F</td>\n",
              "      <td>2023.0</td>\n",
              "      <td>1.117629e+06</td>\n",
              "    </tr>\n",
              "    <tr>\n",
              "      <th>18631</th>\n",
              "      <td>Great Britain</td>\n",
              "      <td>7up (L3)</td>\n",
              "      <td>2024</td>\n",
              "      <td>10</td>\n",
              "      <td>AI_forecast</td>\n",
              "      <td>AI_P11F</td>\n",
              "      <td>2023.0</td>\n",
              "      <td>7.512755e+04</td>\n",
              "    </tr>\n",
              "    <tr>\n",
              "      <th>18649</th>\n",
              "      <td>Great Britain</td>\n",
              "      <td>Lipton (L3)</td>\n",
              "      <td>2024</td>\n",
              "      <td>5</td>\n",
              "      <td>AI_forecast</td>\n",
              "      <td>AI_P11F</td>\n",
              "      <td>2023.0</td>\n",
              "      <td>9.124481e+05</td>\n",
              "    </tr>\n",
              "    <tr>\n",
              "      <th>18650</th>\n",
              "      <td>Great Britain</td>\n",
              "      <td>Lipton (L3)</td>\n",
              "      <td>2024</td>\n",
              "      <td>5</td>\n",
              "      <td>AI_forecast</td>\n",
              "      <td>AI_P09F</td>\n",
              "      <td>2023.0</td>\n",
              "      <td>7.005938e+05</td>\n",
              "    </tr>\n",
              "  </tbody>\n",
              "</table>\n",
              "<p>663 rows × 8 columns</p>\n",
              "</div>\n",
              "    <div class=\"colab-df-buttons\">\n",
              "\n",
              "  <div class=\"colab-df-container\">\n",
              "    <button class=\"colab-df-convert\" onclick=\"convertToInteractive('df-d6623676-df51-4572-8b04-c146a3d2808b')\"\n",
              "            title=\"Convert this dataframe to an interactive table.\"\n",
              "            style=\"display:none;\">\n",
              "\n",
              "  <svg xmlns=\"http://www.w3.org/2000/svg\" height=\"24px\" viewBox=\"0 -960 960 960\">\n",
              "    <path d=\"M120-120v-720h720v720H120Zm60-500h600v-160H180v160Zm220 220h160v-160H400v160Zm0 220h160v-160H400v160ZM180-400h160v-160H180v160Zm440 0h160v-160H620v160ZM180-180h160v-160H180v160Zm440 0h160v-160H620v160Z\"/>\n",
              "  </svg>\n",
              "    </button>\n",
              "\n",
              "  <style>\n",
              "    .colab-df-container {\n",
              "      display:flex;\n",
              "      gap: 12px;\n",
              "    }\n",
              "\n",
              "    .colab-df-convert {\n",
              "      background-color: #E8F0FE;\n",
              "      border: none;\n",
              "      border-radius: 50%;\n",
              "      cursor: pointer;\n",
              "      display: none;\n",
              "      fill: #1967D2;\n",
              "      height: 32px;\n",
              "      padding: 0 0 0 0;\n",
              "      width: 32px;\n",
              "    }\n",
              "\n",
              "    .colab-df-convert:hover {\n",
              "      background-color: #E2EBFA;\n",
              "      box-shadow: 0px 1px 2px rgba(60, 64, 67, 0.3), 0px 1px 3px 1px rgba(60, 64, 67, 0.15);\n",
              "      fill: #174EA6;\n",
              "    }\n",
              "\n",
              "    .colab-df-buttons div {\n",
              "      margin-bottom: 4px;\n",
              "    }\n",
              "\n",
              "    [theme=dark] .colab-df-convert {\n",
              "      background-color: #3B4455;\n",
              "      fill: #D2E3FC;\n",
              "    }\n",
              "\n",
              "    [theme=dark] .colab-df-convert:hover {\n",
              "      background-color: #434B5C;\n",
              "      box-shadow: 0px 1px 3px 1px rgba(0, 0, 0, 0.15);\n",
              "      filter: drop-shadow(0px 1px 2px rgba(0, 0, 0, 0.3));\n",
              "      fill: #FFFFFF;\n",
              "    }\n",
              "  </style>\n",
              "\n",
              "    <script>\n",
              "      const buttonEl =\n",
              "        document.querySelector('#df-d6623676-df51-4572-8b04-c146a3d2808b button.colab-df-convert');\n",
              "      buttonEl.style.display =\n",
              "        google.colab.kernel.accessAllowed ? 'block' : 'none';\n",
              "\n",
              "      async function convertToInteractive(key) {\n",
              "        const element = document.querySelector('#df-d6623676-df51-4572-8b04-c146a3d2808b');\n",
              "        const dataTable =\n",
              "          await google.colab.kernel.invokeFunction('convertToInteractive',\n",
              "                                                    [key], {});\n",
              "        if (!dataTable) return;\n",
              "\n",
              "        const docLinkHtml = 'Like what you see? Visit the ' +\n",
              "          '<a target=\"_blank\" href=https://colab.research.google.com/notebooks/data_table.ipynb>data table notebook</a>'\n",
              "          + ' to learn more about interactive tables.';\n",
              "        element.innerHTML = '';\n",
              "        dataTable['output_type'] = 'display_data';\n",
              "        await google.colab.output.renderOutput(dataTable, element);\n",
              "        const docLink = document.createElement('div');\n",
              "        docLink.innerHTML = docLinkHtml;\n",
              "        element.appendChild(docLink);\n",
              "      }\n",
              "    </script>\n",
              "  </div>\n",
              "\n",
              "\n",
              "<div id=\"df-e26487b9-bf5b-408a-9f7f-840e921c50f2\">\n",
              "  <button class=\"colab-df-quickchart\" onclick=\"quickchart('df-e26487b9-bf5b-408a-9f7f-840e921c50f2')\"\n",
              "            title=\"Suggest charts\"\n",
              "            style=\"display:none;\">\n",
              "\n",
              "<svg xmlns=\"http://www.w3.org/2000/svg\" height=\"24px\"viewBox=\"0 0 24 24\"\n",
              "     width=\"24px\">\n",
              "    <g>\n",
              "        <path d=\"M19 3H5c-1.1 0-2 .9-2 2v14c0 1.1.9 2 2 2h14c1.1 0 2-.9 2-2V5c0-1.1-.9-2-2-2zM9 17H7v-7h2v7zm4 0h-2V7h2v10zm4 0h-2v-4h2v4z\"/>\n",
              "    </g>\n",
              "</svg>\n",
              "  </button>\n",
              "\n",
              "<style>\n",
              "  .colab-df-quickchart {\n",
              "      --bg-color: #E8F0FE;\n",
              "      --fill-color: #1967D2;\n",
              "      --hover-bg-color: #E2EBFA;\n",
              "      --hover-fill-color: #174EA6;\n",
              "      --disabled-fill-color: #AAA;\n",
              "      --disabled-bg-color: #DDD;\n",
              "  }\n",
              "\n",
              "  [theme=dark] .colab-df-quickchart {\n",
              "      --bg-color: #3B4455;\n",
              "      --fill-color: #D2E3FC;\n",
              "      --hover-bg-color: #434B5C;\n",
              "      --hover-fill-color: #FFFFFF;\n",
              "      --disabled-bg-color: #3B4455;\n",
              "      --disabled-fill-color: #666;\n",
              "  }\n",
              "\n",
              "  .colab-df-quickchart {\n",
              "    background-color: var(--bg-color);\n",
              "    border: none;\n",
              "    border-radius: 50%;\n",
              "    cursor: pointer;\n",
              "    display: none;\n",
              "    fill: var(--fill-color);\n",
              "    height: 32px;\n",
              "    padding: 0;\n",
              "    width: 32px;\n",
              "  }\n",
              "\n",
              "  .colab-df-quickchart:hover {\n",
              "    background-color: var(--hover-bg-color);\n",
              "    box-shadow: 0 1px 2px rgba(60, 64, 67, 0.3), 0 1px 3px 1px rgba(60, 64, 67, 0.15);\n",
              "    fill: var(--button-hover-fill-color);\n",
              "  }\n",
              "\n",
              "  .colab-df-quickchart-complete:disabled,\n",
              "  .colab-df-quickchart-complete:disabled:hover {\n",
              "    background-color: var(--disabled-bg-color);\n",
              "    fill: var(--disabled-fill-color);\n",
              "    box-shadow: none;\n",
              "  }\n",
              "\n",
              "  .colab-df-spinner {\n",
              "    border: 2px solid var(--fill-color);\n",
              "    border-color: transparent;\n",
              "    border-bottom-color: var(--fill-color);\n",
              "    animation:\n",
              "      spin 1s steps(1) infinite;\n",
              "  }\n",
              "\n",
              "  @keyframes spin {\n",
              "    0% {\n",
              "      border-color: transparent;\n",
              "      border-bottom-color: var(--fill-color);\n",
              "      border-left-color: var(--fill-color);\n",
              "    }\n",
              "    20% {\n",
              "      border-color: transparent;\n",
              "      border-left-color: var(--fill-color);\n",
              "      border-top-color: var(--fill-color);\n",
              "    }\n",
              "    30% {\n",
              "      border-color: transparent;\n",
              "      border-left-color: var(--fill-color);\n",
              "      border-top-color: var(--fill-color);\n",
              "      border-right-color: var(--fill-color);\n",
              "    }\n",
              "    40% {\n",
              "      border-color: transparent;\n",
              "      border-right-color: var(--fill-color);\n",
              "      border-top-color: var(--fill-color);\n",
              "    }\n",
              "    60% {\n",
              "      border-color: transparent;\n",
              "      border-right-color: var(--fill-color);\n",
              "    }\n",
              "    80% {\n",
              "      border-color: transparent;\n",
              "      border-right-color: var(--fill-color);\n",
              "      border-bottom-color: var(--fill-color);\n",
              "    }\n",
              "    90% {\n",
              "      border-color: transparent;\n",
              "      border-bottom-color: var(--fill-color);\n",
              "    }\n",
              "  }\n",
              "</style>\n",
              "\n",
              "  <script>\n",
              "    async function quickchart(key) {\n",
              "      const quickchartButtonEl =\n",
              "        document.querySelector('#' + key + ' button');\n",
              "      quickchartButtonEl.disabled = true;  // To prevent multiple clicks.\n",
              "      quickchartButtonEl.classList.add('colab-df-spinner');\n",
              "      try {\n",
              "        const charts = await google.colab.kernel.invokeFunction(\n",
              "            'suggestCharts', [key], {});\n",
              "      } catch (error) {\n",
              "        console.error('Error during call to suggestCharts:', error);\n",
              "      }\n",
              "      quickchartButtonEl.classList.remove('colab-df-spinner');\n",
              "      quickchartButtonEl.classList.add('colab-df-quickchart-complete');\n",
              "    }\n",
              "    (() => {\n",
              "      let quickchartButtonEl =\n",
              "        document.querySelector('#df-e26487b9-bf5b-408a-9f7f-840e921c50f2 button');\n",
              "      quickchartButtonEl.style.display =\n",
              "        google.colab.kernel.accessAllowed ? 'block' : 'none';\n",
              "    })();\n",
              "  </script>\n",
              "</div>\n",
              "\n",
              "  <div id=\"id_a9cb29f1-4e08-4890-b20e-f2838643f93e\">\n",
              "    <style>\n",
              "      .colab-df-generate {\n",
              "        background-color: #E8F0FE;\n",
              "        border: none;\n",
              "        border-radius: 50%;\n",
              "        cursor: pointer;\n",
              "        display: none;\n",
              "        fill: #1967D2;\n",
              "        height: 32px;\n",
              "        padding: 0 0 0 0;\n",
              "        width: 32px;\n",
              "      }\n",
              "\n",
              "      .colab-df-generate:hover {\n",
              "        background-color: #E2EBFA;\n",
              "        box-shadow: 0px 1px 2px rgba(60, 64, 67, 0.3), 0px 1px 3px 1px rgba(60, 64, 67, 0.15);\n",
              "        fill: #174EA6;\n",
              "      }\n",
              "\n",
              "      [theme=dark] .colab-df-generate {\n",
              "        background-color: #3B4455;\n",
              "        fill: #D2E3FC;\n",
              "      }\n",
              "\n",
              "      [theme=dark] .colab-df-generate:hover {\n",
              "        background-color: #434B5C;\n",
              "        box-shadow: 0px 1px 3px 1px rgba(0, 0, 0, 0.15);\n",
              "        filter: drop-shadow(0px 1px 2px rgba(0, 0, 0, 0.3));\n",
              "        fill: #FFFFFF;\n",
              "      }\n",
              "    </style>\n",
              "    <button class=\"colab-df-generate\" onclick=\"generateWithVariable('duplicados')\"\n",
              "            title=\"Generate code using this dataframe.\"\n",
              "            style=\"display:none;\">\n",
              "\n",
              "  <svg xmlns=\"http://www.w3.org/2000/svg\" height=\"24px\"viewBox=\"0 0 24 24\"\n",
              "       width=\"24px\">\n",
              "    <path d=\"M7,19H8.4L18.45,9,17,7.55,7,17.6ZM5,21V16.75L18.45,3.32a2,2,0,0,1,2.83,0l1.4,1.43a1.91,1.91,0,0,1,.58,1.4,1.91,1.91,0,0,1-.58,1.4L9.25,21ZM18.45,9,17,7.55Zm-12,3A5.31,5.31,0,0,0,4.9,8.1,5.31,5.31,0,0,0,1,6.5,5.31,5.31,0,0,0,4.9,4.9,5.31,5.31,0,0,0,6.5,1,5.31,5.31,0,0,0,8.1,4.9,5.31,5.31,0,0,0,12,6.5,5.46,5.46,0,0,0,6.5,12Z\"/>\n",
              "  </svg>\n",
              "    </button>\n",
              "    <script>\n",
              "      (() => {\n",
              "      const buttonEl =\n",
              "        document.querySelector('#id_a9cb29f1-4e08-4890-b20e-f2838643f93e button.colab-df-generate');\n",
              "      buttonEl.style.display =\n",
              "        google.colab.kernel.accessAllowed ? 'block' : 'none';\n",
              "\n",
              "      buttonEl.onclick = () => {\n",
              "        google.colab.notebook.generateWithVariable('duplicados');\n",
              "      }\n",
              "      })();\n",
              "    </script>\n",
              "  </div>\n",
              "\n",
              "    </div>\n",
              "  </div>\n"
            ],
            "application/vnd.google.colaboratory.intrinsic+json": {
              "type": "dataframe",
              "variable_name": "duplicados",
              "summary": "{\n  \"name\": \"duplicados\",\n  \"rows\": 663,\n  \"fields\": [\n    {\n      \"column\": \"COUNTRY\",\n      \"properties\": {\n        \"dtype\": \"category\",\n        \"num_unique_values\": 3,\n        \"samples\": [\n          \"Great Britain\",\n          \"Norway\",\n          \"Hungary\"\n        ],\n        \"semantic_type\": \"\",\n        \"description\": \"\"\n      }\n    },\n    {\n      \"column\": \"SUBBRAND\",\n      \"properties\": {\n        \"dtype\": \"category\",\n        \"num_unique_values\": 6,\n        \"samples\": [\n          \"Lipton (L3)\",\n          \"7up Free (L3)\",\n          \"Mountain Dew (L3)\"\n        ],\n        \"semantic_type\": \"\",\n        \"description\": \"\"\n      }\n    },\n    {\n      \"column\": \"YEAR\",\n      \"properties\": {\n        \"dtype\": \"number\",\n        \"std\": 0,\n        \"min\": 2023,\n        \"max\": 2025,\n        \"num_unique_values\": 3,\n        \"samples\": [\n          2024,\n          2023,\n          2025\n        ],\n        \"semantic_type\": \"\",\n        \"description\": \"\"\n      }\n    },\n    {\n      \"column\": \"MONTH\",\n      \"properties\": {\n        \"dtype\": \"number\",\n        \"std\": 3,\n        \"min\": 1,\n        \"max\": 12,\n        \"num_unique_values\": 12,\n        \"samples\": [\n          10,\n          3,\n          9\n        ],\n        \"semantic_type\": \"\",\n        \"description\": \"\"\n      }\n    },\n    {\n      \"column\": \"SCENARIO\",\n      \"properties\": {\n        \"dtype\": \"category\",\n        \"num_unique_values\": 1,\n        \"samples\": [\n          \"AI_forecast\"\n        ],\n        \"semantic_type\": \"\",\n        \"description\": \"\"\n      }\n    },\n    {\n      \"column\": \"FORECAST\",\n      \"properties\": {\n        \"dtype\": \"category\",\n        \"num_unique_values\": 12,\n        \"samples\": [\n          \"AI_P06F\"\n        ],\n        \"semantic_type\": \"\",\n        \"description\": \"\"\n      }\n    },\n    {\n      \"column\": \"FORECAST_YEAR\",\n      \"properties\": {\n        \"dtype\": \"number\",\n        \"std\": 0.0,\n        \"min\": 2023.0,\n        \"max\": 2023.0,\n        \"num_unique_values\": 1,\n        \"samples\": [\n          2023.0\n        ],\n        \"semantic_type\": \"\",\n        \"description\": \"\"\n      }\n    },\n    {\n      \"column\": \"AMOUNT\",\n      \"properties\": {\n        \"dtype\": \"number\",\n        \"std\": 2923003.1830972303,\n        \"min\": 0.0,\n        \"max\": 12660967.475813556,\n        \"num_unique_values\": 595,\n        \"samples\": [\n          267595.8351762476\n        ],\n        \"semantic_type\": \"\",\n        \"description\": \"\"\n      }\n    }\n  ]\n}"
            }
          },
          "metadata": {},
          "execution_count": 30
        }
      ]
    },
    {
      "cell_type": "markdown",
      "source": [
        "Hay 663 registros duplicados.  No aportan información, más bien pueden perturbar los datos.  Por ejemplo, si hay muchos duplicados de España, el número de ventas que se cuenta no es el real.  Se eliminan."
      ],
      "metadata": {
        "id": "J5zLcFrKvzIs"
      }
    },
    {
      "cell_type": "code",
      "source": [
        "df = df.drop_duplicates()\n",
        "df.info()"
      ],
      "metadata": {
        "colab": {
          "base_uri": "https://localhost:8080/"
        },
        "id": "oyFX6hIQwGLn",
        "outputId": "e271184b-1d3b-42ef-82fe-29051441d32d"
      },
      "execution_count": 31,
      "outputs": [
        {
          "output_type": "stream",
          "name": "stdout",
          "text": [
            "<class 'pandas.core.frame.DataFrame'>\n",
            "Index: 17993 entries, 0 to 18665\n",
            "Data columns (total 8 columns):\n",
            " #   Column         Non-Null Count  Dtype  \n",
            "---  ------         --------------  -----  \n",
            " 0   COUNTRY        17993 non-null  object \n",
            " 1   SUBBRAND       17993 non-null  object \n",
            " 2   YEAR           17993 non-null  int64  \n",
            " 3   MONTH          17993 non-null  int64  \n",
            " 4   SCENARIO       17993 non-null  object \n",
            " 5   FORECAST       17103 non-null  object \n",
            " 6   FORECAST_YEAR  17103 non-null  float64\n",
            " 7   AMOUNT         17993 non-null  float64\n",
            "dtypes: float64(2), int64(2), object(4)\n",
            "memory usage: 1.2+ MB\n"
          ]
        }
      ]
    },
    {
      "cell_type": "markdown",
      "source": [
        "Ahora se analizará si hay outliers en nuestra base de datos.  "
      ],
      "metadata": {
        "id": "Dqs-SDHfwXC2"
      }
    },
    {
      "cell_type": "code",
      "source": [
        "# Seleccionar la columna de interés (por ejemplo, 'AMOUNT')\n",
        "Q1 = df['YEAR'].quantile(0.25)\n",
        "Q3 = df['YEAR'].quantile(0.75)\n",
        "IQR = Q3 - Q1\n",
        "\n",
        "# Identificar los outliers\n",
        "outliers = df[(df['YEAR'] < (Q1 - 1.5 * IQR)) |\n",
        "                            (df['YEAR'] > (Q3 + 1.5 * IQR))]\n",
        "\n",
        "# Crear el gráfico\n",
        "plt.figure(figsize=(10, 6))\n",
        "\n",
        "# Boxplot de 'AMOUNT'\n",
        "plt.boxplot(df['YEAR'], vert=False, patch_artist=True, boxprops=dict(facecolor='skyblue'))\n",
        "\n",
        "# Añadir puntos para los outliers\n",
        "plt.scatter(outliers['YEAR'], [1] * len(outliers), color='red', label='Outliers')\n",
        "\n",
        "# Añadir etiquetas y leyenda\n",
        "plt.title('Detección de Outliers en YEAR usando IQR')\n",
        "plt.xlabel('YEAR')\n",
        "plt.legend()\n",
        "plt.show()\n",
        "\n",
        "outliers"
      ],
      "metadata": {
        "colab": {
          "base_uri": "https://localhost:8080/",
          "height": 532
        },
        "id": "P842Rs0fwso_",
        "outputId": "d22fe6a2-c3a0-4068-cc8c-b5bd2ed58ca1"
      },
      "execution_count": 50,
      "outputs": [
        {
          "output_type": "display_data",
          "data": {
            "text/plain": [
              "<Figure size 1000x600 with 1 Axes>"
            ],
            "image/png": "[encoded data removed]"
          },
          "metadata": {}
        },
        {
          "output_type": "execute_result",
          "data": {
            "text/plain": [
              "Empty DataFrame\n",
              "Columns: [COUNTRY, SUBBRAND, YEAR, MONTH, SCENARIO, FORECAST, FORECAST_YEAR, AMOUNT, DATE]\n",
              "Index: []"
            ],
            "text/html": [
              "\n",
              "  <div id=\"df-3dca918c-ddf3-42d8-ad47-c95d7cd18397\" class=\"colab-df-container\">\n",
              "    <div>\n",
              "<style scoped>\n",
              "    .dataframe tbody tr th:only-of-type {\n",
              "        vertical-align: middle;\n",
              "    }\n",
              "\n",
              "    .dataframe tbody tr th {\n",
              "        vertical-align: top;\n",
              "    }\n",
              "\n",
              "    .dataframe thead th {\n",
              "        text-align: right;\n",
              "    }\n",
              "</style>\n",
              "<table border=\"1\" class=\"dataframe\">\n",
              "  <thead>\n",
              "    <tr style=\"text-align: right;\">\n",
              "      <th></th>\n",
              "      <th>COUNTRY</th>\n",
              "      <th>SUBBRAND</th>\n",
              "      <th>YEAR</th>\n",
              "      <th>MONTH</th>\n",
              "      <th>SCENARIO</th>\n",
              "      <th>FORECAST</th>\n",
              "      <th>FORECAST_YEAR</th>\n",
              "      <th>AMOUNT</th>\n",
              "      <th>DATE</th>\n",
              "    </tr>\n",
              "  </thead>\n",
              "  <tbody>\n",
              "  </tbody>\n",
              "</table>\n",
              "</div>\n",
              "    <div class=\"colab-df-buttons\">\n",
              "\n",
              "  <div class=\"colab-df-container\">\n",
              "    <button class=\"colab-df-convert\" onclick=\"convertToInteractive('df-3dca918c-ddf3-42d8-ad47-c95d7cd18397')\"\n",
              "            title=\"Convert this dataframe to an interactive table.\"\n",
              "            style=\"display:none;\">\n",
              "\n",
              "  <svg xmlns=\"http://www.w3.org/2000/svg\" height=\"24px\" viewBox=\"0 -960 960 960\">\n",
              "    <path d=\"M120-120v-720h720v720H120Zm60-500h600v-160H180v160Zm220 220h160v-160H400v160Zm0 220h160v-160H400v160ZM180-400h160v-160H180v160Zm440 0h160v-160H620v160ZM180-180h160v-160H180v160Zm440 0h160v-160H620v160Z\"/>\n",
              "  </svg>\n",
              "    </button>\n",
              "\n",
              "  <style>\n",
              "    .colab-df-container {\n",
              "      display:flex;\n",
              "      gap: 12px;\n",
              "    }\n",
              "\n",
              "    .colab-df-convert {\n",
              "      background-color: #E8F0FE;\n",
              "      border: none;\n",
              "      border-radius: 50%;\n",
              "      cursor: pointer;\n",
              "      display: none;\n",
              "      fill: #1967D2;\n",
              "      height: 32px;\n",
              "      padding: 0 0 0 0;\n",
              "      width: 32px;\n",
              "    }\n",
              "\n",
              "    .colab-df-convert:hover {\n",
              "      background-color: #E2EBFA;\n",
              "      box-shadow: 0px 1px 2px rgba(60, 64, 67, 0.3), 0px 1px 3px 1px rgba(60, 64, 67, 0.15);\n",
              "      fill: #174EA6;\n",
              "    }\n",
              "\n",
              "    .colab-df-buttons div {\n",
              "      margin-bottom: 4px;\n",
              "    }\n",
              "\n",
              "    [theme=dark] .colab-df-convert {\n",
              "      background-color: #3B4455;\n",
              "      fill: #D2E3FC;\n",
              "    }\n",
              "\n",
              "    [theme=dark] .colab-df-convert:hover {\n",
              "      background-color: #434B5C;\n",
              "      box-shadow: 0px 1px 3px 1px rgba(0, 0, 0, 0.15);\n",
              "      filter: drop-shadow(0px 1px 2px rgba(0, 0, 0, 0.3));\n",
              "      fill: #FFFFFF;\n",
              "    }\n",
              "  </style>\n",
              "\n",
              "    <script>\n",
              "      const buttonEl =\n",
              "        document.querySelector('#df-3dca918c-ddf3-42d8-ad47-c95d7cd18397 button.colab-df-convert');\n",
              "      buttonEl.style.display =\n",
              "        google.colab.kernel.accessAllowed ? 'block' : 'none';\n",
              "\n",
              "      async function convertToInteractive(key) {\n",
              "        const element = document.querySelector('#df-3dca918c-ddf3-42d8-ad47-c95d7cd18397');\n",
              "        const dataTable =\n",
              "          await google.colab.kernel.invokeFunction('convertToInteractive',\n",
              "                                                    [key], {});\n",
              "        if (!dataTable) return;\n",
              "\n",
              "        const docLinkHtml = 'Like what you see? Visit the ' +\n",
              "          '<a target=\"_blank\" href=https://colab.research.google.com/notebooks/data_table.ipynb>data table notebook</a>'\n",
              "          + ' to learn more about interactive tables.';\n",
              "        element.innerHTML = '';\n",
              "        dataTable['output_type'] = 'display_data';\n",
              "        await google.colab.output.renderOutput(dataTable, element);\n",
              "        const docLink = document.createElement('div');\n",
              "        docLink.innerHTML = docLinkHtml;\n",
              "        element.appendChild(docLink);\n",
              "      }\n",
              "    </script>\n",
              "  </div>\n",
              "\n",
              "\n",
              "  <div id=\"id_80b0f4e6-c270-466f-bfe7-f3a9849e5da1\">\n",
              "    <style>\n",
              "      .colab-df-generate {\n",
              "        background-color: #E8F0FE;\n",
              "        border: none;\n",
              "        border-radius: 50%;\n",
              "        cursor: pointer;\n",
              "        display: none;\n",
              "        fill: #1967D2;\n",
              "        height: 32px;\n",
              "        padding: 0 0 0 0;\n",
              "        width: 32px;\n",
              "      }\n",
              "\n",
              "      .colab-df-generate:hover {\n",
              "        background-color: #E2EBFA;\n",
              "        box-shadow: 0px 1px 2px rgba(60, 64, 67, 0.3), 0px 1px 3px 1px rgba(60, 64, 67, 0.15);\n",
              "        fill: #174EA6;\n",
              "      }\n",
              "\n",
              "      [theme=dark] .colab-df-generate {\n",
              "        background-color: #3B4455;\n",
              "        fill: #D2E3FC;\n",
              "      }\n",
              "\n",
              "      [theme=dark] .colab-df-generate:hover {\n",
              "        background-color: #434B5C;\n",
              "        box-shadow: 0px 1px 3px 1px rgba(0, 0, 0, 0.15);\n",
              "        filter: drop-shadow(0px 1px 2px rgba(0, 0, 0, 0.3));\n",
              "        fill: #FFFFFF;\n",
              "      }\n",
              "    </style>\n",
              "    <button class=\"colab-df-generate\" onclick=\"generateWithVariable('outliers')\"\n",
              "            title=\"Generate code using this dataframe.\"\n",
              "            style=\"display:none;\">\n",
              "\n",
              "  <svg xmlns=\"http://www.w3.org/2000/svg\" height=\"24px\"viewBox=\"0 0 24 24\"\n",
              "       width=\"24px\">\n",
              "    <path d=\"M7,19H8.4L18.45,9,17,7.55,7,17.6ZM5,21V16.75L18.45,3.32a2,2,0,0,1,2.83,0l1.4,1.43a1.91,1.91,0,0,1,.58,1.4,1.91,1.91,0,0,1-.58,1.4L9.25,21ZM18.45,9,17,7.55Zm-12,3A5.31,5.31,0,0,0,4.9,8.1,5.31,5.31,0,0,0,1,6.5,5.31,5.31,0,0,0,4.9,4.9,5.31,5.31,0,0,0,6.5,1,5.31,5.31,0,0,0,8.1,4.9,5.31,5.31,0,0,0,12,6.5,5.46,5.46,0,0,0,6.5,12Z\"/>\n",
              "  </svg>\n",
              "    </button>\n",
              "    <script>\n",
              "      (() => {\n",
              "      const buttonEl =\n",
              "        document.querySelector('#id_80b0f4e6-c270-466f-bfe7-f3a9849e5da1 button.colab-df-generate');\n",
              "      buttonEl.style.display =\n",
              "        google.colab.kernel.accessAllowed ? 'block' : 'none';\n",
              "\n",
              "      buttonEl.onclick = () => {\n",
              "        google.colab.notebook.generateWithVariable('outliers');\n",
              "      }\n",
              "      })();\n",
              "    </script>\n",
              "  </div>\n",
              "\n",
              "    </div>\n",
              "  </div>\n"
            ],
            "application/vnd.google.colaboratory.intrinsic+json": {
              "type": "dataframe",
              "variable_name": "outliers",
              "repr_error": "Out of range float values are not JSON compliant: nan"
            }
          },
          "metadata": {},
          "execution_count": 50
        }
      ]
    },
    {
      "cell_type": "markdown",
      "source": [
        "PREGUNTAS PREVIAS PARA ENTENDER LOS DATOS:\n",
        "\n",
        "1. Número actuals y forecasts\n",
        "\n",
        "2. Horizonte de predicción (si hago previsión para enero y febrero, ej, el horizonte de predicción es 2, con frecuencia mensual): tiempo hacia el futuro para el cual se hacen previsiones.\n",
        "\n",
        "3. Nº países y de productos\n",
        "\n",
        "4. Histórico de actuals y forecasts\n",
        "\n",
        "5. Forecasts distintos."
      ],
      "metadata": {
        "id": "sSicGPsjZHo_"
      }
    },
    {
      "cell_type": "code",
      "source": [
        "!pip install plotly_express\n",
        "import plotly.express as px"
      ],
      "metadata": {
        "colab": {
          "base_uri": "https://localhost:8080/"
        },
        "id": "Pr4TB4XRaRXP",
        "outputId": "9898d938-886c-4972-9d59-82ee1eae181c"
      },
      "execution_count": 33,
      "outputs": [
        {
          "output_type": "stream",
          "name": "stdout",
          "text": [
            "Requirement already satisfied: plotly_express in /usr/local/lib/python3.10/dist-packages (0.4.1)\n",
            "Requirement already satisfied: pandas>=0.20.0 in /usr/local/lib/python3.10/dist-packages (from plotly_express) (2.2.2)\n",
            "Requirement already satisfied: plotly>=4.1.0 in /usr/local/lib/python3.10/dist-packages (from plotly_express) (5.24.1)\n",
            "Requirement already satisfied: statsmodels>=0.9.0 in /usr/local/lib/python3.10/dist-packages (from plotly_express) (0.14.4)\n",
            "Requirement already satisfied: scipy>=0.18 in /usr/local/lib/python3.10/dist-packages (from plotly_express) (1.13.1)\n",
            "Requirement already satisfied: patsy>=0.5 in /usr/local/lib/python3.10/dist-packages (from plotly_express) (0.5.6)\n",
            "Requirement already satisfied: numpy>=1.11 in /usr/local/lib/python3.10/dist-packages (from plotly_express) (1.26.4)\n",
            "Requirement already satisfied: python-dateutil>=2.8.2 in /usr/local/lib/python3.10/dist-packages (from pandas>=0.20.0->plotly_express) (2.8.2)\n",
            "Requirement already satisfied: pytz>=2020.1 in /usr/local/lib/python3.10/dist-packages (from pandas>=0.20.0->plotly_express) (2024.2)\n",
            "Requirement already satisfied: tzdata>=2022.7 in /usr/local/lib/python3.10/dist-packages (from pandas>=0.20.0->plotly_express) (2024.2)\n",
            "Requirement already satisfied: six in /usr/local/lib/python3.10/dist-packages (from patsy>=0.5->plotly_express) (1.16.0)\n",
            "Requirement already satisfied: tenacity>=6.2.0 in /usr/local/lib/python3.10/dist-packages (from plotly>=4.1.0->plotly_express) (9.0.0)\n",
            "Requirement already satisfied: packaging in /usr/local/lib/python3.10/dist-packages (from plotly>=4.1.0->plotly_express) (24.1)\n"
          ]
        }
      ]
    },
    {
      "cell_type": "markdown",
      "source": [
        "1. Números Actuals y Forecasts"
      ],
      "metadata": {
        "id": "7Zk_-S_wa2Mv"
      }
    },
    {
      "cell_type": "code",
      "source": [
        "scenarios = df['SCENARIO'].value_counts()\n",
        "scenarios"
      ],
      "metadata": {
        "colab": {
          "base_uri": "https://localhost:8080/",
          "height": 178
        },
        "id": "XlHJB0XEa7qH",
        "outputId": "9af43067-bca5-40b7-da88-abddb5aa9d36"
      },
      "execution_count": 34,
      "outputs": [
        {
          "output_type": "execute_result",
          "data": {
            "text/plain": [
              "SCENARIO\n",
              "AI_forecast    17103\n",
              "actual           890\n",
              "Name: count, dtype: int64"
            ],
            "text/html": [
              "<div>\n",
              "<style scoped>\n",
              "    .dataframe tbody tr th:only-of-type {\n",
              "        vertical-align: middle;\n",
              "    }\n",
              "\n",
              "    .dataframe tbody tr th {\n",
              "        vertical-align: top;\n",
              "    }\n",
              "\n",
              "    .dataframe thead th {\n",
              "        text-align: right;\n",
              "    }\n",
              "</style>\n",
              "<table border=\"1\" class=\"dataframe\">\n",
              "  <thead>\n",
              "    <tr style=\"text-align: right;\">\n",
              "      <th></th>\n",
              "      <th>count</th>\n",
              "    </tr>\n",
              "    <tr>\n",
              "      <th>SCENARIO</th>\n",
              "      <th></th>\n",
              "    </tr>\n",
              "  </thead>\n",
              "  <tbody>\n",
              "    <tr>\n",
              "      <th>AI_forecast</th>\n",
              "      <td>17103</td>\n",
              "    </tr>\n",
              "    <tr>\n",
              "      <th>actual</th>\n",
              "      <td>890</td>\n",
              "    </tr>\n",
              "  </tbody>\n",
              "</table>\n",
              "</div><br><label><b>dtype:</b> int64</label>"
            ]
          },
          "metadata": {},
          "execution_count": 34
        }
      ]
    },
    {
      "cell_type": "markdown",
      "source": [
        "2. Horizonte de predicción"
      ],
      "metadata": {
        "id": "R4B9mIZweh1s"
      }
    },
    {
      "cell_type": "code",
      "source": [
        "#solo tengo en cuenta los registros que son predicciones\n",
        "predicciones = df[df['SCENARIO'] == 'AI_forecast']\n",
        "#último año + mes de las predicciones totales\n",
        "#uso variable year porque quiero el año para el cual predigo, no en el que predigo\n",
        "max_year = predicciones['YEAR'].max()\n",
        "max_month = predicciones[predicciones['YEAR'] == max_year]['MONTH'].max()\n",
        "max_year, max_month"
      ],
      "metadata": {
        "colab": {
          "base_uri": "https://localhost:8080/"
        },
        "id": "1j-CZZG8eoP7",
        "outputId": "407a8a97-d547-43b3-af61-4e0e12247207"
      },
      "execution_count": 35,
      "outputs": [
        {
          "output_type": "execute_result",
          "data": {
            "text/plain": [
              "(2025, 5)"
            ]
          },
          "metadata": {},
          "execution_count": 35
        }
      ]
    },
    {
      "cell_type": "markdown",
      "source": [
        "Ya tengo el mes (mayo) y el año (2025) para cuando se ha hecho la última predicción.  Ahora necesito el último mes+año de 'actual' para ver cuál es el último dato 'real' de ventas."
      ],
      "metadata": {
        "id": "hQeafAPLgmoO"
      }
    },
    {
      "cell_type": "code",
      "source": [
        "actuals = df[df['SCENARIO'] == 'actual']\n",
        "max_actual_year = actuals['YEAR'].max()\n",
        "max_actual_month = actuals[actuals['YEAR'] == max_actual_year]['MONTH'].max()\n",
        "max_actual_year,max_actual_month"
      ],
      "metadata": {
        "colab": {
          "base_uri": "https://localhost:8080/"
        },
        "id": "Hi_BP4bWhH52",
        "outputId": "deecf17c-b385-40fe-e919-2abea9b1a2e4"
      },
      "execution_count": 36,
      "outputs": [
        {
          "output_type": "execute_result",
          "data": {
            "text/plain": [
              "(2024, 8)"
            ]
          },
          "metadata": {},
          "execution_count": 36
        }
      ]
    },
    {
      "cell_type": "markdown",
      "source": [
        "Ahora calculo la diferencia entre ambos:"
      ],
      "metadata": {
        "id": "ZLCvAxgQhgqB"
      }
    },
    {
      "cell_type": "code",
      "source": [
        "horizonte_years = max_year - max_actual_year\n",
        "horizonte_months = max_month - max_actual_month\n"
      ],
      "metadata": {
        "id": "5Y9WPUfGhlom"
      },
      "execution_count": 37,
      "outputs": []
    },
    {
      "cell_type": "code",
      "source": [
        "# Si los meses son negativos, ajustar los años\n",
        "if horizonte_months < 0:\n",
        "    horizonte_years -= 1\n",
        "    horizonte_months += 12"
      ],
      "metadata": {
        "id": "Yqsti3RviDPK"
      },
      "execution_count": 38,
      "outputs": []
    },
    {
      "cell_type": "code",
      "source": [
        "horizonte_years,horizonte_months"
      ],
      "metadata": {
        "colab": {
          "base_uri": "https://localhost:8080/"
        },
        "id": "lw9wkN3NiGWa",
        "outputId": "a2e8f715-d3c7-49bd-8bc3-683756321f11"
      },
      "execution_count": 39,
      "outputs": [
        {
          "output_type": "execute_result",
          "data": {
            "text/plain": [
              "(0, 9)"
            ]
          },
          "metadata": {},
          "execution_count": 39
        }
      ]
    },
    {
      "cell_type": "markdown",
      "source": [
        "El horizonte de predicción es de 9 meses."
      ],
      "metadata": {
        "id": "xL_qbvLLiUoK"
      }
    },
    {
      "cell_type": "markdown",
      "source": [
        "3.  Número de países y productos"
      ],
      "metadata": {
        "id": "_ISEN_Rsid0L"
      }
    },
    {
      "cell_type": "code",
      "source": [
        "paises = df['COUNTRY'].value_counts()\n",
        "productos = df['SUBBRAND'].value_counts()\n",
        "paises, productos"
      ],
      "metadata": {
        "colab": {
          "base_uri": "https://localhost:8080/"
        },
        "id": "GhIG4b_hijly",
        "outputId": "588ff34f-d0ec-4271-d62d-f70fea296840"
      },
      "execution_count": 40,
      "outputs": [
        {
          "output_type": "execute_result",
          "data": {
            "text/plain": [
              "(COUNTRY\n",
              " Great Britain    3372\n",
              " Netherlands      2476\n",
              " Hungary          2358\n",
              " Denmark          2294\n",
              " Spain            2152\n",
              " Norway           2051\n",
              " Czech            1403\n",
              " Portugal         1179\n",
              " Italy             708\n",
              " Name: count, dtype: int64,\n",
              " SUBBRAND\n",
              " Pepsi Max (L3)        5538\n",
              " Pepsi Regular (L3)    3576\n",
              " Lipton (L3)           2484\n",
              " 7up (L3)              2470\n",
              " 7up Free (L3)         2283\n",
              " Mountain Dew (L3)     1642\n",
              " Name: count, dtype: int64)"
            ]
          },
          "metadata": {},
          "execution_count": 40
        }
      ]
    },
    {
      "cell_type": "markdown",
      "source": [
        "Hay 9 países y 6 marcas de bebidas."
      ],
      "metadata": {
        "id": "rv_TVq0XjN1l"
      }
    },
    {
      "cell_type": "markdown",
      "source": [
        "**PREGUNTAS A RESPONDER**\n",
        "1. Cómo se distribuyen las ventas realizadas en cada país, mes y año y marca.\n",
        "\n",
        "2. Cuál es la tendencia y estacionalidad de todas las ventas del país con menos ventas y la marca con más ventas.\n",
        "\n",
        "3.  Cuáles son las predicciones hechas en España y qué tan buenas son."
      ],
      "metadata": {
        "id": "EOa3kZy-gQGZ"
      }
    },
    {
      "cell_type": "markdown",
      "source": [
        "******************************************************************"
      ],
      "metadata": {
        "id": "LhaI8yMUjY1_"
      }
    },
    {
      "cell_type": "markdown",
      "source": [
        "1. Cómo se distribuyen las ventas realizadas en cada país, mes y año y marca."
      ],
      "metadata": {
        "id": "0WKah9VajWCN"
      }
    },
    {
      "cell_type": "code",
      "source": [
        "long_df = px.data.medals_long()\n",
        "fig = px.bar(df, x=\"COUNTRY\", y=\"AMOUNT\", color=\"SUBBRAND\", title=\"Ventas por País\")\n",
        "fig.show\n"
      ],
      "metadata": {
        "colab": {
          "base_uri": "https://localhost:8080/",
          "height": 186
        },
        "id": "iMWDocDzkrxE",
        "outputId": "4b4ea23d-ea6a-45a3-d489-a16873592feb"
      },
      "execution_count": 41,
      "outputs": [
        {
          "output_type": "execute_result",
          "data": {
            "text/plain": [
              "<bound method BaseFigure.show of Figure({\n",
              "    'data': [{'alignmentgroup': 'True',\n",
              "              'hovertemplate': 'SUBBRAND=Lipton (L3)<br>COUNTRY=%{x}<br>AMOUNT=%{y}<extra></extra>',\n",
              "              'legendgroup': 'Lipton (L3)',\n",
              "              'marker': {'color': '#636efa', 'pattern': {'shape': ''}},\n",
              "              'name': 'Lipton (L3)',\n",
              "              'offsetgroup': 'Lipton (L3)',\n",
              "              'orientation': 'v',\n",
              "              'showlegend': True,\n",
              "              'textposition': 'auto',\n",
              "              'type': 'bar',\n",
              "              'x': array(['Portugal', 'Great Britain', 'Hungary', ..., 'Netherlands', 'Hungary',\n",
              "                          'Portugal'], dtype=object),\n",
              "              'xaxis': 'x',\n",
              "              'y': array([754356.23719405, 560030.55802897, 396176.12049052, ..., 812808.78719236,\n",
              "                          173918.34943545, 533063.40364508]),\n",
              "              'yaxis': 'y'},\n",
              "             {'alignmentgroup': 'True',\n",
              "              'hovertemplate': 'SUBBRAND=Pepsi Max (L3)<br>COUNTRY=%{x}<br>AMOUNT=%{y}<extra></extra>',\n",
              "              'legendgroup': 'Pepsi Max (L3)',\n",
              "              'marker': {'color': '#EF553B', 'pattern': {'shape': ''}},\n",
              "              'name': 'Pepsi Max (L3)',\n",
              "              'offsetgroup': 'Pepsi Max (L3)',\n",
              "              'orientation': 'v',\n",
              "              'showlegend': True,\n",
              "              'textposition': 'auto',\n",
              "              'type': 'bar',\n",
              "              'x': array(['Spain', 'Great Britain', 'Norway', ..., 'Hungary', 'Hungary',\n",
              "                          'Denmark'], dtype=object),\n",
              "              'xaxis': 'x',\n",
              "              'y': array([   88501.98084743, 11385568.69333082,  2607242.89302767, ...,\n",
              "                            497908.49331219,   479852.68697723,  2087623.78657171]),\n",
              "              'yaxis': 'y'},\n",
              "             {'alignmentgroup': 'True',\n",
              "              'hovertemplate': 'SUBBRAND=7up (L3)<br>COUNTRY=%{x}<br>AMOUNT=%{y}<extra></extra>',\n",
              "              'legendgroup': '7up (L3)',\n",
              "              'marker': {'color': '#00cc96', 'pattern': {'shape': ''}},\n",
              "              'name': '7up (L3)',\n",
              "              'offsetgroup': '7up (L3)',\n",
              "              'orientation': 'v',\n",
              "              'showlegend': True,\n",
              "              'textposition': 'auto',\n",
              "              'type': 'bar',\n",
              "              'x': array(['Great Britain', 'Denmark', 'Czech', ..., 'Netherlands', 'Netherlands',\n",
              "                          'Norway'], dtype=object),\n",
              "              'xaxis': 'x',\n",
              "              'y': array([363224.51151579,      0.        ,  64054.56981421, ..., 123927.09312953,\n",
              "                          150515.77609818,      0.        ]),\n",
              "              'yaxis': 'y'},\n",
              "             {'alignmentgroup': 'True',\n",
              "              'hovertemplate': 'SUBBRAND=Pepsi Regular (L3)<br>COUNTRY=%{x}<br>AMOUNT=%{y}<extra></extra>',\n",
              "              'legendgroup': 'Pepsi Regular (L3)',\n",
              "              'marker': {'color': '#ab63fa', 'pattern': {'shape': ''}},\n",
              "              'name': 'Pepsi Regular (L3)',\n",
              "              'offsetgroup': 'Pepsi Regular (L3)',\n",
              "              'orientation': 'v',\n",
              "              'showlegend': True,\n",
              "              'textposition': 'auto',\n",
              "              'type': 'bar',\n",
              "              'x': array(['Norway', 'Italy', 'Hungary', ..., 'Netherlands', 'Great Britain',\n",
              "                          'Hungary'], dtype=object),\n",
              "              'xaxis': 'x',\n",
              "              'y': array([  26672.67485764, 2074742.36945837,  774392.1831584 , ...,\n",
              "                           468362.73521127, 1313511.4398266 , 1314395.00849149]),\n",
              "              'yaxis': 'y'},\n",
              "             {'alignmentgroup': 'True',\n",
              "              'hovertemplate': 'SUBBRAND=Mountain Dew (L3)<br>COUNTRY=%{x}<br>AMOUNT=%{y}<extra></extra>',\n",
              "              'legendgroup': 'Mountain Dew (L3)',\n",
              "              'marker': {'color': '#FFA15A', 'pattern': {'shape': ''}},\n",
              "              'name': 'Mountain Dew (L3)',\n",
              "              'offsetgroup': 'Mountain Dew (L3)',\n",
              "              'orientation': 'v',\n",
              "              'showlegend': True,\n",
              "              'textposition': 'auto',\n",
              "              'type': 'bar',\n",
              "              'x': array(['Netherlands', 'Netherlands', 'Hungary', ..., 'Great Britain', 'Czech',\n",
              "                          'Hungary'], dtype=object),\n",
              "              'xaxis': 'x',\n",
              "              'y': array([     0.        ,      0.        ,  43590.42803734, ..., 117575.27662523,\n",
              "                           84538.55050602,  55019.81425978]),\n",
              "              'yaxis': 'y'},\n",
              "             {'alignmentgroup': 'True',\n",
              "              'hovertemplate': 'SUBBRAND=7up Free (L3)<br>COUNTRY=%{x}<br>AMOUNT=%{y}<extra></extra>',\n",
              "              'legendgroup': '7up Free (L3)',\n",
              "              'marker': {'color': '#19d3f3', 'pattern': {'shape': ''}},\n",
              "              'name': '7up Free (L3)',\n",
              "              'offsetgroup': '7up Free (L3)',\n",
              "              'orientation': 'v',\n",
              "              'showlegend': True,\n",
              "              'textposition': 'auto',\n",
              "              'type': 'bar',\n",
              "              'x': array(['Denmark', 'Denmark', 'Great Britain', ..., 'Hungary', 'Great Britain',\n",
              "                          'Portugal'], dtype=object),\n",
              "              'xaxis': 'x',\n",
              "              'y': array([  15002.90000168,    5057.72483261, 1119131.60090257, ...,\n",
              "                           120343.37218048,  344407.97496401,  125417.38357072]),\n",
              "              'yaxis': 'y'}],\n",
              "    'layout': {'barmode': 'relative',\n",
              "               'legend': {'title': {'text': 'SUBBRAND'}, 'tracegroupgap': 0},\n",
              "               'template': '...',\n",
              "               'title': {'text': 'Ventas por País'},\n",
              "               'xaxis': {'anchor': 'y', 'domain': [0.0, 1.0], 'title': {'text': 'COUNTRY'}},\n",
              "               'yaxis': {'anchor': 'x', 'domain': [0.0, 1.0], 'title': {'text': 'AMOUNT'}}}\n",
              "})>"
            ],
            "text/html": [
              "<div style=\"max-width:800px; border: 1px solid var(--colab-border-color);\"><style>\n",
              "      pre.function-repr-contents {\n",
              "        overflow-x: auto;\n",
              "        padding: 8px 12px;\n",
              "        max-height: 500px;\n",
              "      }\n",
              "\n",
              "      pre.function-repr-contents.function-repr-contents-collapsed {\n",
              "        cursor: pointer;\n",
              "        max-height: 100px;\n",
              "      }\n",
              "    </style>\n",
              "    <pre style=\"white-space: initial; background:\n",
              "         var(--colab-secondary-surface-color); padding: 8px 12px;\n",
              "         border-bottom: 1px solid var(--colab-border-color);\"><b>plotly.basedatatypes.BaseFigure.show</b><br/>def show(*args, **kwargs)</pre><pre class=\"function-repr-contents function-repr-contents-collapsed\" style=\"\"><a class=\"filepath\" style=\"display:none\" href=\"#\">/usr/local/lib/python3.10/dist-packages/plotly/basedatatypes.py</a>Show a figure using either the default renderer(s) or the renderer(s)\n",
              "specified by the renderer argument\n",
              "\n",
              "Parameters\n",
              "----------\n",
              "renderer: str or None (default None)\n",
              "    A string containing the names of one or more registered renderers\n",
              "    (separated by &#x27;+&#x27; characters) or None.  If None, then the default\n",
              "    renderers specified in plotly.io.renderers.default are used.\n",
              "\n",
              "validate: bool (default True)\n",
              "    True if the figure should be validated before being shown,\n",
              "    False otherwise.\n",
              "\n",
              "width: int or float\n",
              "    An integer or float that determines the number of pixels wide the\n",
              "    plot is. The default is set in plotly.js.\n",
              "\n",
              "height: int or float\n",
              "    An integer or float that determines the number of pixels wide the\n",
              "    plot is. The default is set in plotly.js.\n",
              "\n",
              "config: dict\n",
              "    A dict of parameters to configure the figure. The defaults are set\n",
              "    in plotly.js.\n",
              "\n",
              "Returns\n",
              "-------\n",
              "None</pre>\n",
              "      <script>\n",
              "      if (google.colab.kernel.accessAllowed && google.colab.files && google.colab.files.view) {\n",
              "        for (const element of document.querySelectorAll('.filepath')) {\n",
              "          element.style.display = 'block'\n",
              "          element.onclick = (event) => {\n",
              "            event.preventDefault();\n",
              "            event.stopPropagation();\n",
              "            google.colab.files.view(element.textContent, 3376);\n",
              "          };\n",
              "        }\n",
              "      }\n",
              "      for (const element of document.querySelectorAll('.function-repr-contents')) {\n",
              "        element.onclick = (event) => {\n",
              "          event.preventDefault();\n",
              "          event.stopPropagation();\n",
              "          element.classList.toggle('function-repr-contents-collapsed');\n",
              "        };\n",
              "      }\n",
              "      </script>\n",
              "      </div>"
            ]
          },
          "metadata": {},
          "execution_count": 41
        }
      ]
    },
    {
      "cell_type": "markdown",
      "source": [
        "2. Cuál es la tendencia y estacionalidad de todas las ventas del país con menos ventas y la marca con más ventas."
      ],
      "metadata": {
        "id": "3Kj7DvLDyGNe"
      }
    },
    {
      "cell_type": "markdown",
      "source": [
        "*NOTA: se tendrán en cuenta tanto los datos 'actual' como los predichos.*"
      ],
      "metadata": {
        "id": "15Z5XDay1WVP"
      }
    },
    {
      "cell_type": "markdown",
      "source": [
        "Primero se identificarán el país con menos ventas y la marca con más."
      ],
      "metadata": {
        "id": "6uuw4Gsuy_T7"
      }
    },
    {
      "cell_type": "markdown",
      "source": [],
      "metadata": {
        "id": "Tl6uAh_v1tss"
      }
    },
    {
      "cell_type": "code",
      "source": [
        "# Cargar los datos\n",
        "import pandas as pd\n",
        "import matplotlib.pyplot as plt\n",
        "import seaborn as sns\n",
        "\n",
        "df = pd.read_csv('datos_ejercicio_ventas.csv')\n",
        "\n",
        "# Encontrar el pa\\u00eds con menos ventas totales\n",
        "ventas_por_pais = df.groupby('COUNTRY')['AMOUNT'].sum().sort_values()\n",
        "pais_menos_ventas = ventas_por_pais.index[0]\n",
        "\n",
        "# Encontrar la marca con m\\u00e1s ventas totales\n",
        "ventas_por_marca = df.groupby('SUBBRAND')['AMOUNT'].sum().sort_values(ascending=False)\n",
        "marca_mas_ventas = ventas_por_marca.index[0]\n",
        "\n",
        "print(\"El país con menos ventas es:\", pais_menos_ventas)\n",
        "print(\"La marca con más ventas es:\", marca_mas_ventas)\n"
      ],
      "metadata": {
        "id": "OG6ELdmwyJmA",
        "outputId": "48dde628-c15b-4aae-a434-b3fe5f75c227",
        "colab": {
          "base_uri": "https://localhost:8080/"
        }
      },
      "execution_count": 42,
      "outputs": [
        {
          "output_type": "stream",
          "name": "stdout",
          "text": [
            "El país con menos ventas es: Spain\n",
            "La marca con más ventas es: Pepsi Max (L3)\n"
          ]
        }
      ]
    },
    {
      "cell_type": "markdown",
      "source": [
        "Pepsi Max es el producto más vendido.  Pepsi es la marca más vendida contando los productos de Pepsi Max + Pepsi Regular."
      ],
      "metadata": {
        "id": "6Ys6OwlPznds"
      }
    },
    {
      "cell_type": "markdown",
      "source": [
        "Ahora se analizará la tendencia de la venta de Pepsi Max (elijo el producto más vendido en vez de la marca) en España y la estacionalidad cada mes."
      ],
      "metadata": {
        "id": "GUhSSuYVz_KY"
      }
    },
    {
      "cell_type": "markdown",
      "source": [
        "TENDENCIA:"
      ],
      "metadata": {
        "id": "xP72O9C004P5"
      }
    },
    {
      "cell_type": "code",
      "source": [
        "# Analizar tendencia y estacionalidad para Espa\\u00f1a (pa\\u00eds con menos ventas) y Pepsi Max (marca con m\\u00e1s ventas)\n",
        "df['DATE'] = pd.to_datetime(df['YEAR'].astype(str) + '-' + df['MONTH'].astype(str).str.zfill(2) + '-01')\n",
        "\n",
        "# Datos para Espa\\u00f1a\n",
        "spain_data = df[df['COUNTRY'] == 'Spain'].copy()\n",
        "spain_pepsi = spain_data[spain_data['SUBBRAND'] == 'Pepsi Max (L3)'].copy()\n",
        "\n",
        "# Agrupar por fecha\n",
        "spain_monthly = spain_pepsi.groupby('DATE')['AMOUNT'].sum().reset_index()\n",
        "\n",
        "plt.figure(figsize=(12, 6))\n",
        "plt.plot(spain_monthly['DATE'], spain_monthly['AMOUNT'])\n",
        "plt.title('Tendencia de ventas de Pepsi Max en Espa\\u00f1a')\n",
        "plt.xlabel('Fecha')\n",
        "plt.ylabel('Ventas')\n",
        "plt.xticks(rotation=45)\n",
        "plt.grid(True)\n",
        "plt.tight_layout()\n",
        "plt.show()\n"
      ],
      "metadata": {
        "id": "WTgiurT1yLSU",
        "outputId": "2d488ef4-0599-41bc-a3e4-6ba4b192483a",
        "colab": {
          "base_uri": "https://localhost:8080/",
          "height": 329
        }
      },
      "execution_count": 43,
      "outputs": [
        {
          "output_type": "display_data",
          "data": {
            "text/plain": [
              "<Figure size 1200x600 with 1 Axes>"
            ],
            "image/png": "[encoded data removed]"
          },
          "metadata": {}
        }
      ]
    },
    {
      "cell_type": "markdown",
      "source": [
        "En las fechas de julio y agosto sube considerablemente la venta de Pepsi Max, lo cual tiene sentido ya que son los meses con más calor en España.  El consumo general de la Pepsi Max ha sufrido leves bajadas pero su tendencia es ascendente hasta julio de 2024, el mes con má ventas.  Desde ese momento la función tiene tendencia negativa, pues comienzan los meses más frios, por lo cual tiene sentido que se vendan menos refrescos.\n",
        "\n",
        "En 2024 las ventas parecen haber subido un 50% con respecto al 2023.  Esto podría ser un indicador de que está haciendo un buen marketing y la gente lo elige ante otras marcas similares como la Coca Cola."
      ],
      "metadata": {
        "id": "SMFQ0oZ10-1G"
      }
    },
    {
      "cell_type": "code",
      "source": [
        "# An\\u00e1lisis de estacionalidad por mes\n",
        "spain_seasonal = spain_pepsi.groupby('MONTH')['AMOUNT'].mean()\n",
        "\n",
        "plt.figure(figsize=(10, 5))\n",
        "plt.bar(spain_seasonal.index, spain_seasonal.values)\n",
        "plt.title('Estacionalidad mensual de Pepsi Max en Espa\\u00f1a')\n",
        "plt.xlabel('Mes')\n",
        "plt.ylabel('Ventas promedio')\n",
        "plt.grid(True)\n",
        "plt.tight_layout()\n",
        "plt.show()"
      ],
      "metadata": {
        "id": "Gk_M2PVd0uR6",
        "outputId": "bc4e5af3-b8ca-4bb6-fa51-9027e3fbe66f",
        "colab": {
          "base_uri": "https://localhost:8080/",
          "height": 329
        }
      },
      "execution_count": 44,
      "outputs": [
        {
          "output_type": "display_data",
          "data": {
            "text/plain": [
              "<Figure size 1000x500 with 1 Axes>"
            ],
            "image/png": "[encoded data removed]"
          },
          "metadata": {}
        }
      ]
    },
    {
      "cell_type": "markdown",
      "source": [
        "3. Predicciones hechas en España y qué tan buenas son."
      ],
      "metadata": {
        "id": "MWlaL62Syj8c"
      }
    },
    {
      "cell_type": "markdown",
      "source": [
        "Se calculará primero el error de las predicciones."
      ],
      "metadata": {
        "id": "4dvwYdL94GrB"
      }
    },
    {
      "cell_type": "code",
      "source": [
        "# Filtrar las predicciones para España\n",
        "df_spain = df[df['COUNTRY'] == 'Spain']\n",
        "\n",
        "# Filtrar las filas que contienen predicciones\n",
        "df_spain_predictions = df_spain[df_spain['SCENARIO'] == 'AI_forecast']\n",
        "\n",
        "# Mostrar las predicciones\n",
        "print(df_spain_predictions.head())\n",
        "\n",
        "# Calcular la precisión si hay datos reales disponibles\n",
        "df_spain_real = df_spain[df_spain['SCENARIO'] != 'AI_forecast']\n",
        "\n",
        "# Si hay datos reales, comparar con las predicciones\n",
        "if not df_spain_real.empty:\n",
        "    # Agrupar por fecha para comparar\n",
        "    real_vs_pred = df_spain_real.groupby('DATE')['AMOUNT'].sum().reset_index()\n",
        "    pred_vs_real = df_spain_predictions.groupby('DATE')['AMOUNT'].sum().reset_index()\n",
        "    comparison = pd.merge(real_vs_pred, pred_vs_real, on='DATE', suffixes=('_real', '_pred'))\n",
        "    comparison['error'] = (comparison['AMOUNT_pred'] - comparison['AMOUNT_real']).abs()\n",
        "    comparison['error_percentage'] = (comparison['error'] / comparison['AMOUNT_real']) * 100\n",
        "    print(comparison.head())\n",
        "else:\n",
        "    print(\"No hay datos reales disponibles para comparar con las predicciones.\")"
      ],
      "metadata": {
        "id": "eJWT7ovryjos",
        "outputId": "91683f77-ae84-4671-f310-82b05603c6c6",
        "colab": {
          "base_uri": "https://localhost:8080/"
        }
      },
      "execution_count": 45,
      "outputs": [
        {
          "output_type": "stream",
          "name": "stdout",
          "text": [
            "   COUNTRY            SUBBRAND  YEAR  MONTH     SCENARIO FORECAST  \\\n",
            "2    Spain      Pepsi Max (L3)  2023     12  AI_forecast  AI_P09F   \n",
            "20   Spain  Pepsi Regular (L3)  2023     12  AI_forecast  AI_P05F   \n",
            "25   Spain         Lipton (L3)  2025      3  AI_forecast  AI_P11F   \n",
            "62   Spain       7up Free (L3)  2024      1  AI_forecast  AI_P04F   \n",
            "68   Spain            7up (L3)  2024      4  AI_forecast  AI_P02F   \n",
            "\n",
            "    FORECAST_YEAR         AMOUNT       DATE  \n",
            "2          2023.0   88501.980847 2023-12-01  \n",
            "20         2023.0  134268.151080 2023-12-01  \n",
            "25         2023.0    9702.217953 2025-03-01  \n",
            "62         2023.0   70144.329753 2024-01-01  \n",
            "68         2023.0   38882.921227 2024-04-01  \n",
            "        DATE    AMOUNT_real   AMOUNT_pred         error  error_percentage\n",
            "0 2023-01-01  325272.938930  3.227921e+05  2.480865e+03          0.762703\n",
            "1 2023-02-01  295588.379605  6.341964e+05  3.386081e+05        114.553914\n",
            "2 2023-03-01  399710.273110  9.632081e+05  5.634978e+05        140.976563\n",
            "3 2023-04-01  328035.257874  1.693046e+06  1.365010e+06        416.116995\n",
            "4 2023-05-01  360751.156280  2.523458e+06  2.162707e+06        599.501000\n"
          ]
        }
      ]
    },
    {
      "cell_type": "code",
      "source": [
        "# Visualizar las predicciones vs valores reales\n",
        "import matplotlib.pyplot as plt\n",
        "import seaborn as sns\n",
        "\n",
        "# Crear gr\\u00e1fico de l\\u00edneas para comparar predicciones vs reales\n",
        "plt.figure(figsize=(12, 6))\n",
        "plt.plot(comparison['DATE'], comparison['AMOUNT_real'], label='Real', marker='o')\n",
        "plt.plot(comparison['DATE'], comparison['AMOUNT_pred'], label='Predicci\\u00f3n', marker='o')\n",
        "plt.title('Ventas Reales vs Predicciones en España')\n",
        "plt.xlabel('Fecha')\n",
        "plt.ylabel('Ventas')\n",
        "plt.legend()\n",
        "plt.xticks(rotation=45)\n",
        "plt.grid(True)\n",
        "plt.tight_layout()\n",
        "plt.show()"
      ],
      "metadata": {
        "id": "MUMwslDnyvY8",
        "outputId": "3781ce20-2862-4710-e06a-75cb515f3656",
        "colab": {
          "base_uri": "https://localhost:8080/",
          "height": 329
        }
      },
      "execution_count": 46,
      "outputs": [
        {
          "output_type": "display_data",
          "data": {
            "text/plain": [
              "<Figure size 1200x600 with 1 Axes>"
            ],
            "image/png": "[encoded data removed]"
          },
          "metadata": {}
        }
      ]
    },
    {
      "cell_type": "markdown",
      "source": [
        "Hay una gran diferencia entre las predicciones y los valores reales.  Los valores actuals son muy estacionales, a diferencia de las predicciones, que tienen una tendencia alcista.\n",
        "\n",
        "Las predicciones no son precisas en absoluto."
      ],
      "metadata": {
        "id": "0MxVgnf38P2R"
      }
    },
    {
      "cell_type": "code",
      "source": [],
      "metadata": {
        "id": "0b3TiKxr8oMf"
      },
      "execution_count": 46,
      "outputs": []
    },
    {
      "cell_type": "code",
      "source": [
        "plt.figure(figsize=(12, 6))\n",
        "plt.plot(comparison['DATE'], comparison['error_percentage'], marker='o', color='red')\n",
        "plt.title('Error Porcentual de las Predicciones')\n",
        "plt.xlabel('Fecha')\n",
        "plt.ylabel('Error (%)')\n",
        "plt.xticks(rotation=45)\n",
        "plt.grid(True)\n",
        "plt.tight_layout()\n",
        "plt.show()"
      ],
      "metadata": {
        "id": "Bw3rdPg76Unp",
        "outputId": "f84be1f2-012b-481c-805d-2eb5517198ca",
        "colab": {
          "base_uri": "https://localhost:8080/",
          "height": 329
        }
      },
      "execution_count": 47,
      "outputs": [
        {
          "output_type": "display_data",
          "data": {
            "text/plain": [
              "<Figure size 1200x600 with 1 Axes>"
            ],
            "image/png": "[encoded data removed]"
          },
          "metadata": {}
        }
      ]
    },
    {
      "cell_type": "markdown",
      "source": [
        "Ahora se calcula la media de error absoluto."
      ],
      "metadata": {
        "id": "tPGbu9cs6wPw"
      }
    },
    {
      "cell_type": "code",
      "source": [
        "abs_error = comparison['error_percentage'].mean()\n",
        "print(\"MAE:\", abs_error, \"%\")"
      ],
      "metadata": {
        "id": "6Bj-7Uo657c-",
        "outputId": "fcaa03b2-0526-41e4-b964-b4bcc772915b",
        "colab": {
          "base_uri": "https://localhost:8080/"
        }
      },
      "execution_count": 48,
      "outputs": [
        {
          "output_type": "stream",
          "name": "stdout",
          "text": [
            "MAE: 1736.2834961067456 %\n"
          ]
        }
      ]
    },
    {
      "cell_type": "markdown",
      "source": [
        "Hay una desviación demasiado grande.  Las predicciones han fallado mucho."
      ],
      "metadata": {
        "id": "uvGAsaQW6-U2"
      }
    }
  ]
}