{
  "nbformat": 4,
  "nbformat_minor": 0,
  "metadata": {
    "colab": {
      "provenance": [],
      "authorship_tag": "ABX9TyNbTwrZmzZHkKAjEhg961n3",
      "include_colab_link": true
    },
    "kernelspec": {
      "name": "python3",
      "display_name": "Python 3"
    },
    "language_info": {
      "name": "python"
    }
  },
  "cells": [
    {
      "cell_type": "markdown",
      "metadata": {
        "id": "view-in-github",
        "colab_type": "text"
      },
      "source": [
        "<a href=\"https://colab.research.google.com/github/luciadeangulo/UFV-Visualizacion/blob/main/clase2.ipynb\" target=\"_parent\"><img src=\"https://colab.research.google.com/assets/colab-badge.svg\" alt=\"Open In Colab\"/></a>"
      ]
    },
    {
      "cell_type": "markdown",
      "source": [
        "EJERCICIO HISTÓRICO DE VENTAS: PLANIFICACIÓN\n",
        "\n",
        "1 - Definición mensaje a transmitir\n",
        "2 - Conocer los datos"
      ],
      "metadata": {
        "id": "YbBiLqMQTnyZ"
      }
    },
    {
      "cell_type": "code",
      "execution_count": 2,
      "metadata": {
        "colab": {
          "base_uri": "https://localhost:8080/"
        },
        "id": "B1rxum1uTkxH",
        "outputId": "4db5ba0d-50de-4bcf-bc1d-d83174f92c30"
      },
      "outputs": [
        {
          "output_type": "stream",
          "name": "stdout",
          "text": [
            "         COUNTRY        SUBBRAND  YEAR  MONTH     SCENARIO FORECAST  \\\n",
            "0       Portugal     Lipton (L3)  2023     12  AI_forecast  AI_P02F   \n",
            "1  Great Britain     Lipton (L3)  2023     12  AI_forecast  AI_P10F   \n",
            "2          Spain  Pepsi Max (L3)  2023     12  AI_forecast  AI_P09F   \n",
            "3  Great Britain        7up (L3)  2024     12  AI_forecast  AI_P10F   \n",
            "4        Hungary     Lipton (L3)  2023      9  AI_forecast  AI_P03F   \n",
            "\n",
            "   FORECAST_YEAR         AMOUNT  \n",
            "0         2023.0  754356.237194  \n",
            "1         2023.0  560030.558029  \n",
            "2         2023.0   88501.980847  \n",
            "3         2023.0  363224.511516  \n",
            "4         2023.0  396176.120491  \n"
          ]
        }
      ],
      "source": [
        "import pandas as pd\n",
        "df = pd.read_csv('datos_ejercicio_ventas.csv')\n",
        "print(df.head())"
      ]
    },
    {
      "cell_type": "code",
      "source": [],
      "metadata": {
        "id": "duiZ07McbCN8"
      },
      "execution_count": null,
      "outputs": []
    },
    {
      "cell_type": "markdown",
      "source": [
        "**Amount ** : volumen ventas en litros\n",
        "\n",
        "**subbrand ** : producto que se ha vendido (lipton ej)\n",
        "\n",
        "**scenario:** Ai_forecast(se ha predicho) o actual(venta real)\n",
        "\n",
        "**month** : en caso de forecast, esto indica para cuándo se hace la predicción\n",
        "\n",
        "**forecast** : mes cuando se hizo la predicción.  numero-1 = mes (2-12). pero diciembre es solo PF.\n",
        "\n",
        "** forecast_year** : año cuando se hizo la predicción"
      ],
      "metadata": {
        "id": "z1Pc-HrjV3WI"
      }
    },
    {
      "cell_type": "markdown",
      "source": [
        "PREGUNTAS PREVIAS PARA ENTENDER LOS DATOS:\n",
        "\n",
        "1. Número actuals y forecasts\n",
        "\n",
        "2. Horizonte de predicción (si hago previsión para enero y febrero, ej, el horizonte de predicción es 2, con frecuencia mensual): tiempo hacia el futuro para el cual se hacen previsiones.\n",
        "\n",
        "3. Nº países y de productos\n",
        "\n",
        "4. Histórico de actuals y forecasts\n",
        "\n",
        "5. Forecasts distintos."
      ],
      "metadata": {
        "id": "sSicGPsjZHo_"
      }
    },
    {
      "cell_type": "code",
      "source": [
        "!pip install plotly_express\n",
        "import plotly.express as px"
      ],
      "metadata": {
        "colab": {
          "base_uri": "https://localhost:8080/"
        },
        "id": "Pr4TB4XRaRXP",
        "outputId": "158bd0fe-10d9-479e-c824-dfacde9f146c"
      },
      "execution_count": 5,
      "outputs": [
        {
          "output_type": "stream",
          "name": "stdout",
          "text": [
            "Collecting plotly_express\n",
            "  Downloading plotly_express-0.4.1-py2.py3-none-any.whl.metadata (1.7 kB)\n",
            "Requirement already satisfied: pandas>=0.20.0 in /usr/local/lib/python3.10/dist-packages (from plotly_express) (2.2.2)\n",
            "Requirement already satisfied: plotly>=4.1.0 in /usr/local/lib/python3.10/dist-packages (from plotly_express) (5.24.1)\n",
            "Requirement already satisfied: statsmodels>=0.9.0 in /usr/local/lib/python3.10/dist-packages (from plotly_express) (0.14.4)\n",
            "Requirement already satisfied: scipy>=0.18 in /usr/local/lib/python3.10/dist-packages (from plotly_express) (1.13.1)\n",
            "Requirement already satisfied: patsy>=0.5 in /usr/local/lib/python3.10/dist-packages (from plotly_express) (0.5.6)\n",
            "Requirement already satisfied: numpy>=1.11 in /usr/local/lib/python3.10/dist-packages (from plotly_express) (1.26.4)\n",
            "Requirement already satisfied: python-dateutil>=2.8.2 in /usr/local/lib/python3.10/dist-packages (from pandas>=0.20.0->plotly_express) (2.8.2)\n",
            "Requirement already satisfied: pytz>=2020.1 in /usr/local/lib/python3.10/dist-packages (from pandas>=0.20.0->plotly_express) (2024.2)\n",
            "Requirement already satisfied: tzdata>=2022.7 in /usr/local/lib/python3.10/dist-packages (from pandas>=0.20.0->plotly_express) (2024.2)\n",
            "Requirement already satisfied: six in /usr/local/lib/python3.10/dist-packages (from patsy>=0.5->plotly_express) (1.16.0)\n",
            "Requirement already satisfied: tenacity>=6.2.0 in /usr/local/lib/python3.10/dist-packages (from plotly>=4.1.0->plotly_express) (9.0.0)\n",
            "Requirement already satisfied: packaging in /usr/local/lib/python3.10/dist-packages (from plotly>=4.1.0->plotly_express) (24.1)\n",
            "Downloading plotly_express-0.4.1-py2.py3-none-any.whl (2.9 kB)\n",
            "Installing collected packages: plotly_express\n",
            "Successfully installed plotly_express-0.4.1\n"
          ]
        }
      ]
    },
    {
      "cell_type": "markdown",
      "source": [
        "1. Números Actuals y Forecasts"
      ],
      "metadata": {
        "id": "7Zk_-S_wa2Mv"
      }
    },
    {
      "cell_type": "code",
      "source": [
        "scenarios = df['SCENARIO'].value_counts()\n",
        "scenarios"
      ],
      "metadata": {
        "colab": {
          "base_uri": "https://localhost:8080/",
          "height": 178
        },
        "id": "XlHJB0XEa7qH",
        "outputId": "0cf7c59b-a110-46ff-b9d6-22bd39866445"
      },
      "execution_count": 6,
      "outputs": [
        {
          "output_type": "execute_result",
          "data": {
            "text/plain": [
              "SCENARIO\n",
              "AI_forecast    17766\n",
              "actual           900\n",
              "Name: count, dtype: int64"
            ],
            "text/html": [
              "<div>\n",
              "<style scoped>\n",
              "    .dataframe tbody tr th:only-of-type {\n",
              "        vertical-align: middle;\n",
              "    }\n",
              "\n",
              "    .dataframe tbody tr th {\n",
              "        vertical-align: top;\n",
              "    }\n",
              "\n",
              "    .dataframe thead th {\n",
              "        text-align: right;\n",
              "    }\n",
              "</style>\n",
              "<table border=\"1\" class=\"dataframe\">\n",
              "  <thead>\n",
              "    <tr style=\"text-align: right;\">\n",
              "      <th></th>\n",
              "      <th>count</th>\n",
              "    </tr>\n",
              "    <tr>\n",
              "      <th>SCENARIO</th>\n",
              "      <th></th>\n",
              "    </tr>\n",
              "  </thead>\n",
              "  <tbody>\n",
              "    <tr>\n",
              "      <th>AI_forecast</th>\n",
              "      <td>17766</td>\n",
              "    </tr>\n",
              "    <tr>\n",
              "      <th>actual</th>\n",
              "      <td>900</td>\n",
              "    </tr>\n",
              "  </tbody>\n",
              "</table>\n",
              "</div><br><label><b>dtype:</b> int64</label>"
            ]
          },
          "metadata": {},
          "execution_count": 6
        }
      ]
    },
    {
      "cell_type": "markdown",
      "source": [
        "2. Horizonte de predicción"
      ],
      "metadata": {
        "id": "R4B9mIZweh1s"
      }
    },
    {
      "cell_type": "code",
      "source": [
        "#solo tengo en cuenta los registros que son predicciones\n",
        "predicciones = df[df['SCENARIO'] == 'AI_forecast']\n",
        "#último año + mes de las predicciones totales\n",
        "#uso variable year porque quiero el año para el cual predigo, no en el que predigo\n",
        "max_year = predicciones['YEAR'].max()\n",
        "max_month = predicciones[predicciones['YEAR'] == max_year]['MONTH'].max()\n",
        "max_year, max_month"
      ],
      "metadata": {
        "colab": {
          "base_uri": "https://localhost:8080/"
        },
        "id": "1j-CZZG8eoP7",
        "outputId": "aa5b24ae-b8f2-4ca8-86a5-562ccb1f9039"
      },
      "execution_count": 8,
      "outputs": [
        {
          "output_type": "execute_result",
          "data": {
            "text/plain": [
              "(2025, 5)"
            ]
          },
          "metadata": {},
          "execution_count": 8
        }
      ]
    },
    {
      "cell_type": "markdown",
      "source": [
        "Ya tengo el mes (mayo) y el año (2025) para cuando se ha hecho la última predicción.  Ahora necesito el último mes+año de 'actual' para ver cuál es el último dato 'real' de ventas."
      ],
      "metadata": {
        "id": "hQeafAPLgmoO"
      }
    },
    {
      "cell_type": "code",
      "source": [
        "actuals = df[df['SCENARIO'] == 'actual']\n",
        "max_actual_year = actuals['YEAR'].max()\n",
        "max_actual_month = actuals[actuals['YEAR'] == max_actual_year]['MONTH'].max()\n",
        "max_actual_year,max_actual_month"
      ],
      "metadata": {
        "colab": {
          "base_uri": "https://localhost:8080/"
        },
        "id": "Hi_BP4bWhH52",
        "outputId": "1b739c32-52dc-4fb2-dc7b-271b71b6f6d5"
      },
      "execution_count": 9,
      "outputs": [
        {
          "output_type": "execute_result",
          "data": {
            "text/plain": [
              "(2024, 8)"
            ]
          },
          "metadata": {},
          "execution_count": 9
        }
      ]
    },
    {
      "cell_type": "markdown",
      "source": [
        "Ahora calculo la diferencia entre ambos:"
      ],
      "metadata": {
        "id": "ZLCvAxgQhgqB"
      }
    },
    {
      "cell_type": "code",
      "source": [
        "horizonte_years = max_year - max_actual_year\n",
        "horizonte_months = max_month - max_actual_month\n"
      ],
      "metadata": {
        "colab": {
          "base_uri": "https://localhost:8080/"
        },
        "id": "5Y9WPUfGhlom",
        "outputId": "92d8a1dc-bb25-4bbd-ed38-7d35b0b8e1ef"
      },
      "execution_count": 11,
      "outputs": [
        {
          "output_type": "execute_result",
          "data": {
            "text/plain": [
              "(1, -3)"
            ]
          },
          "metadata": {},
          "execution_count": 11
        }
      ]
    },
    {
      "cell_type": "code",
      "source": [
        "# Si los meses son negativos, ajustar los años\n",
        "if horizonte_months < 0:\n",
        "    horizonte_years -= 1\n",
        "    horizonte_months += 12"
      ],
      "metadata": {
        "id": "Yqsti3RviDPK"
      },
      "execution_count": 13,
      "outputs": []
    },
    {
      "cell_type": "code",
      "source": [
        "horizonte_years,horizonte_months"
      ],
      "metadata": {
        "colab": {
          "base_uri": "https://localhost:8080/"
        },
        "id": "lw9wkN3NiGWa",
        "outputId": "f53a8669-17e8-4e3d-a395-7f9fd43ca9e0"
      },
      "execution_count": 14,
      "outputs": [
        {
          "output_type": "execute_result",
          "data": {
            "text/plain": [
              "(0, 9)"
            ]
          },
          "metadata": {},
          "execution_count": 14
        }
      ]
    },
    {
      "cell_type": "markdown",
      "source": [
        "El horizonte de predicción es de 9 meses."
      ],
      "metadata": {
        "id": "xL_qbvLLiUoK"
      }
    },
    {
      "cell_type": "markdown",
      "source": [
        "3.  Número de países y productos"
      ],
      "metadata": {
        "id": "_ISEN_Rsid0L"
      }
    },
    {
      "cell_type": "code",
      "source": [
        "paises = df['COUNTRY'].value_counts()\n",
        "productos = df['SUBBRAND'].value_counts()\n",
        "paises, productos"
      ],
      "metadata": {
        "colab": {
          "base_uri": "https://localhost:8080/"
        },
        "id": "GhIG4b_hijly",
        "outputId": "429c5a08-1b7f-430b-848f-3767f24b2bd0"
      },
      "execution_count": 18,
      "outputs": [
        {
          "output_type": "execute_result",
          "data": {
            "text/plain": [
              "(COUNTRY\n",
              " Great Britain    4008\n",
              " Netherlands      2476\n",
              " Hungary          2384\n",
              " Denmark          2294\n",
              " Spain            2152\n",
              " Norway           2062\n",
              " Czech            1403\n",
              " Portugal         1179\n",
              " Italy             708\n",
              " Name: count, dtype: int64,\n",
              " SUBBRAND\n",
              " Pepsi Max (L3)        5598\n",
              " Pepsi Regular (L3)    3636\n",
              " 7up (L3)              2694\n",
              " Lipton (L3)           2693\n",
              " 7up Free (L3)         2343\n",
              " Mountain Dew (L3)     1702\n",
              " Name: count, dtype: int64)"
            ]
          },
          "metadata": {},
          "execution_count": 18
        }
      ]
    },
    {
      "cell_type": "markdown",
      "source": [
        "Hay 9 países y 6 marcas de bebidas."
      ],
      "metadata": {
        "id": "rv_TVq0XjN1l"
      }
    },
    {
      "cell_type": "markdown",
      "source": [
        "**PREGUNTAS A RESPONDER**\n",
        "1. Cómo se distribuyen las ventas realizadas en cada país, mes y año y marca.\n",
        "\n",
        "2. Cuál es la tendencia y estacionalidad de todas las ventas del país con menos ventas y la marca con más ventas.\n",
        "\n",
        "3.  Cuáles son las predicciones hechas en España y qué tan buenas son."
      ],
      "metadata": {
        "id": "EOa3kZy-gQGZ"
      }
    },
    {
      "cell_type": "markdown",
      "source": [
        "******************************************************************"
      ],
      "metadata": {
        "id": "LhaI8yMUjY1_"
      }
    },
    {
      "cell_type": "markdown",
      "source": [
        "1. Cómo se distribuyen las ventas realizadas en cada país, mes y año y marca."
      ],
      "metadata": {
        "id": "0WKah9VajWCN"
      }
    },
    {
      "cell_type": "code",
      "source": [
        "long_df = px.data.medals_long()\n",
        "fig = px.bar(df, x=\"COUNTRY\", y=\"AMOUNT\", color=\"SUBBRAND\", title=\"Ventas por País\")\n",
        "fig.show\n"
      ],
      "metadata": {
        "colab": {
          "base_uri": "https://localhost:8080/",
          "height": 186
        },
        "id": "iMWDocDzkrxE",
        "outputId": "3c77e862-dda7-4c37-eb90-9812e8fc93f4"
      },
      "execution_count": 22,
      "outputs": [
        {
          "output_type": "execute_result",
          "data": {
            "text/plain": [
              "<bound method BaseFigure.show of Figure({\n",
              "    'data': [{'alignmentgroup': 'True',\n",
              "              'hovertemplate': 'SUBBRAND=Lipton (L3)<br>COUNTRY=%{x}<br>AMOUNT=%{y}<extra></extra>',\n",
              "              'legendgroup': 'Lipton (L3)',\n",
              "              'marker': {'color': '#636efa', 'pattern': {'shape': ''}},\n",
              "              'name': 'Lipton (L3)',\n",
              "              'offsetgroup': 'Lipton (L3)',\n",
              "              'orientation': 'v',\n",
              "              'showlegend': True,\n",
              "              'textposition': 'auto',\n",
              "              'type': 'bar',\n",
              "              'x': array(['Portugal', 'Great Britain', 'Hungary', ..., 'Great Britain',\n",
              "                          'Great Britain', 'Portugal'], dtype=object),\n",
              "              'xaxis': 'x',\n",
              "              'y': array([754356.23719405, 560030.55802897, 396176.12049052, ..., 912448.11274067,\n",
              "                          700593.75932195, 533063.40364508]),\n",
              "              'yaxis': 'y'},\n",
              "             {'alignmentgroup': 'True',\n",
              "              'hovertemplate': 'SUBBRAND=Pepsi Max (L3)<br>COUNTRY=%{x}<br>AMOUNT=%{y}<extra></extra>',\n",
              "              'legendgroup': 'Pepsi Max (L3)',\n",
              "              'marker': {'color': '#EF553B', 'pattern': {'shape': ''}},\n",
              "              'name': 'Pepsi Max (L3)',\n",
              "              'offsetgroup': 'Pepsi Max (L3)',\n",
              "              'orientation': 'v',\n",
              "              'showlegend': True,\n",
              "              'textposition': 'auto',\n",
              "              'type': 'bar',\n",
              "              'x': array(['Spain', 'Great Britain', 'Norway', ..., 'Hungary', 'Hungary',\n",
              "                          'Denmark'], dtype=object),\n",
              "              'xaxis': 'x',\n",
              "              'y': array([   88501.98084743, 11385568.69333082,  2607242.89302767, ...,\n",
              "                            497908.49331219,   479852.68697723,  2087623.78657171]),\n",
              "              'yaxis': 'y'},\n",
              "             {'alignmentgroup': 'True',\n",
              "              'hovertemplate': 'SUBBRAND=7up (L3)<br>COUNTRY=%{x}<br>AMOUNT=%{y}<extra></extra>',\n",
              "              'legendgroup': '7up (L3)',\n",
              "              'marker': {'color': '#00cc96', 'pattern': {'shape': ''}},\n",
              "              'name': '7up (L3)',\n",
              "              'offsetgroup': '7up (L3)',\n",
              "              'orientation': 'v',\n",
              "              'showlegend': True,\n",
              "              'textposition': 'auto',\n",
              "              'type': 'bar',\n",
              "              'x': array(['Great Britain', 'Denmark', 'Czech', ..., 'Netherlands', 'Netherlands',\n",
              "                          'Norway'], dtype=object),\n",
              "              'xaxis': 'x',\n",
              "              'y': array([363224.51151579,      0.        ,  64054.56981421, ..., 123927.09312953,\n",
              "                          150515.77609818,      0.        ]),\n",
              "              'yaxis': 'y'},\n",
              "             {'alignmentgroup': 'True',\n",
              "              'hovertemplate': 'SUBBRAND=Pepsi Regular (L3)<br>COUNTRY=%{x}<br>AMOUNT=%{y}<extra></extra>',\n",
              "              'legendgroup': 'Pepsi Regular (L3)',\n",
              "              'marker': {'color': '#ab63fa', 'pattern': {'shape': ''}},\n",
              "              'name': 'Pepsi Regular (L3)',\n",
              "              'offsetgroup': 'Pepsi Regular (L3)',\n",
              "              'orientation': 'v',\n",
              "              'showlegend': True,\n",
              "              'textposition': 'auto',\n",
              "              'type': 'bar',\n",
              "              'x': array(['Norway', 'Italy', 'Hungary', ..., 'Netherlands', 'Great Britain',\n",
              "                          'Hungary'], dtype=object),\n",
              "              'xaxis': 'x',\n",
              "              'y': array([  26672.67485764, 2074742.36945837,  774392.1831584 , ...,\n",
              "                           468362.73521127, 1313511.4398266 , 1314395.00849149]),\n",
              "              'yaxis': 'y'},\n",
              "             {'alignmentgroup': 'True',\n",
              "              'hovertemplate': 'SUBBRAND=Mountain Dew (L3)<br>COUNTRY=%{x}<br>AMOUNT=%{y}<extra></extra>',\n",
              "              'legendgroup': 'Mountain Dew (L3)',\n",
              "              'marker': {'color': '#FFA15A', 'pattern': {'shape': ''}},\n",
              "              'name': 'Mountain Dew (L3)',\n",
              "              'offsetgroup': 'Mountain Dew (L3)',\n",
              "              'orientation': 'v',\n",
              "              'showlegend': True,\n",
              "              'textposition': 'auto',\n",
              "              'type': 'bar',\n",
              "              'x': array(['Netherlands', 'Netherlands', 'Hungary', ..., 'Great Britain', 'Czech',\n",
              "                          'Hungary'], dtype=object),\n",
              "              'xaxis': 'x',\n",
              "              'y': array([     0.        ,      0.        ,  43590.42803734, ..., 117575.27662523,\n",
              "                           84538.55050602,  55019.81425978]),\n",
              "              'yaxis': 'y'},\n",
              "             {'alignmentgroup': 'True',\n",
              "              'hovertemplate': 'SUBBRAND=7up Free (L3)<br>COUNTRY=%{x}<br>AMOUNT=%{y}<extra></extra>',\n",
              "              'legendgroup': '7up Free (L3)',\n",
              "              'marker': {'color': '#19d3f3', 'pattern': {'shape': ''}},\n",
              "              'name': '7up Free (L3)',\n",
              "              'offsetgroup': '7up Free (L3)',\n",
              "              'orientation': 'v',\n",
              "              'showlegend': True,\n",
              "              'textposition': 'auto',\n",
              "              'type': 'bar',\n",
              "              'x': array(['Denmark', 'Denmark', 'Great Britain', ..., 'Hungary', 'Great Britain',\n",
              "                          'Portugal'], dtype=object),\n",
              "              'xaxis': 'x',\n",
              "              'y': array([  15002.90000168,    5057.72483261, 1119131.60090257, ...,\n",
              "                           120343.37218048,  344407.97496401,  125417.38357072]),\n",
              "              'yaxis': 'y'}],\n",
              "    'layout': {'barmode': 'relative',\n",
              "               'legend': {'title': {'text': 'SUBBRAND'}, 'tracegroupgap': 0},\n",
              "               'template': '...',\n",
              "               'title': {'text': 'Ventas por País'},\n",
              "               'xaxis': {'anchor': 'y', 'domain': [0.0, 1.0], 'title': {'text': 'COUNTRY'}},\n",
              "               'yaxis': {'anchor': 'x', 'domain': [0.0, 1.0], 'title': {'text': 'AMOUNT'}}}\n",
              "})>"
            ],
            "text/html": [
              "<div style=\"max-width:800px; border: 1px solid var(--colab-border-color);\"><style>\n",
              "      pre.function-repr-contents {\n",
              "        overflow-x: auto;\n",
              "        padding: 8px 12px;\n",
              "        max-height: 500px;\n",
              "      }\n",
              "\n",
              "      pre.function-repr-contents.function-repr-contents-collapsed {\n",
              "        cursor: pointer;\n",
              "        max-height: 100px;\n",
              "      }\n",
              "    </style>\n",
              "    <pre style=\"white-space: initial; background:\n",
              "         var(--colab-secondary-surface-color); padding: 8px 12px;\n",
              "         border-bottom: 1px solid var(--colab-border-color);\"><b>plotly.basedatatypes.BaseFigure.show</b><br/>def show(*args, **kwargs)</pre><pre class=\"function-repr-contents function-repr-contents-collapsed\" style=\"\"><a class=\"filepath\" style=\"display:none\" href=\"#\">/usr/local/lib/python3.10/dist-packages/plotly/basedatatypes.py</a>Show a figure using either the default renderer(s) or the renderer(s)\n",
              "specified by the renderer argument\n",
              "\n",
              "Parameters\n",
              "----------\n",
              "renderer: str or None (default None)\n",
              "    A string containing the names of one or more registered renderers\n",
              "    (separated by &#x27;+&#x27; characters) or None.  If None, then the default\n",
              "    renderers specified in plotly.io.renderers.default are used.\n",
              "\n",
              "validate: bool (default True)\n",
              "    True if the figure should be validated before being shown,\n",
              "    False otherwise.\n",
              "\n",
              "width: int or float\n",
              "    An integer or float that determines the number of pixels wide the\n",
              "    plot is. The default is set in plotly.js.\n",
              "\n",
              "height: int or float\n",
              "    An integer or float that determines the number of pixels wide the\n",
              "    plot is. The default is set in plotly.js.\n",
              "\n",
              "config: dict\n",
              "    A dict of parameters to configure the figure. The defaults are set\n",
              "    in plotly.js.\n",
              "\n",
              "Returns\n",
              "-------\n",
              "None</pre>\n",
              "      <script>\n",
              "      if (google.colab.kernel.accessAllowed && google.colab.files && google.colab.files.view) {\n",
              "        for (const element of document.querySelectorAll('.filepath')) {\n",
              "          element.style.display = 'block'\n",
              "          element.onclick = (event) => {\n",
              "            event.preventDefault();\n",
              "            event.stopPropagation();\n",
              "            google.colab.files.view(element.textContent, 3376);\n",
              "          };\n",
              "        }\n",
              "      }\n",
              "      for (const element of document.querySelectorAll('.function-repr-contents')) {\n",
              "        element.onclick = (event) => {\n",
              "          event.preventDefault();\n",
              "          event.stopPropagation();\n",
              "          element.classList.toggle('function-repr-contents-collapsed');\n",
              "        };\n",
              "      }\n",
              "      </script>\n",
              "      </div>"
            ]
          },
          "metadata": {},
          "execution_count": 22
        }
      ]
    }
  ]
}